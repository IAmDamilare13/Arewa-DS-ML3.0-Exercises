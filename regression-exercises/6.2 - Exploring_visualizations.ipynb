{
 "cells": [
  {
   "cell_type": "markdown",
   "id": "46dc0d25",
   "metadata": {},
   "source": [
    "## Exploring Visualizations\n",
    "\n",
    "Create some visualizations using the Pumpkin data in this lesson with matplotlib and seaborn in a sample notebook. Which libraries are easier to work with?"
   ]
  },
  {
   "cell_type": "code",
   "execution_count": 45,
   "id": "f74ffc7e",
   "metadata": {},
   "outputs": [
    {
     "data": {
      "application/vnd.microsoft.datawrangler.viewer.v0+json": {
       "columns": [
        {
         "name": "index",
         "rawType": "int64",
         "type": "integer"
        },
        {
         "name": "City Name",
         "rawType": "object",
         "type": "string"
        },
        {
         "name": "Type",
         "rawType": "object",
         "type": "unknown"
        },
        {
         "name": "Package",
         "rawType": "object",
         "type": "string"
        },
        {
         "name": "Variety",
         "rawType": "object",
         "type": "unknown"
        },
        {
         "name": "Sub Variety",
         "rawType": "object",
         "type": "unknown"
        },
        {
         "name": "Grade",
         "rawType": "float64",
         "type": "float"
        },
        {
         "name": "Date",
         "rawType": "object",
         "type": "string"
        },
        {
         "name": "Low Price",
         "rawType": "float64",
         "type": "float"
        },
        {
         "name": "High Price",
         "rawType": "float64",
         "type": "float"
        },
        {
         "name": "Mostly Low",
         "rawType": "float64",
         "type": "float"
        },
        {
         "name": "Mostly High",
         "rawType": "float64",
         "type": "float"
        },
        {
         "name": "Origin",
         "rawType": "object",
         "type": "string"
        },
        {
         "name": "Origin District",
         "rawType": "object",
         "type": "unknown"
        },
        {
         "name": "Item Size",
         "rawType": "object",
         "type": "string"
        },
        {
         "name": "Color",
         "rawType": "object",
         "type": "unknown"
        },
        {
         "name": "Environment",
         "rawType": "float64",
         "type": "float"
        },
        {
         "name": "Unit of Sale",
         "rawType": "object",
         "type": "unknown"
        },
        {
         "name": "Quality",
         "rawType": "float64",
         "type": "float"
        },
        {
         "name": "Condition",
         "rawType": "float64",
         "type": "float"
        },
        {
         "name": "Appearance",
         "rawType": "float64",
         "type": "float"
        },
        {
         "name": "Storage",
         "rawType": "float64",
         "type": "float"
        },
        {
         "name": "Crop",
         "rawType": "float64",
         "type": "float"
        },
        {
         "name": "Repack",
         "rawType": "object",
         "type": "string"
        },
        {
         "name": "Trans Mode",
         "rawType": "float64",
         "type": "float"
        },
        {
         "name": "Unnamed: 24",
         "rawType": "float64",
         "type": "float"
        },
        {
         "name": "Unnamed: 25",
         "rawType": "object",
         "type": "unknown"
        }
       ],
       "ref": "65d8c103-3054-4a6a-a7fa-e46d46265a8f",
       "rows": [
        [
         "0",
         "BALTIMORE",
         null,
         "24 inch bins",
         null,
         null,
         null,
         "4/29/17",
         "270.0",
         "280.0",
         "270.0",
         "280.0",
         "MARYLAND",
         null,
         "lge",
         null,
         null,
         null,
         null,
         null,
         null,
         null,
         null,
         "E",
         null,
         null,
         null
        ],
        [
         "1",
         "BALTIMORE",
         null,
         "24 inch bins",
         null,
         null,
         null,
         "5/6/17",
         "270.0",
         "280.0",
         "270.0",
         "280.0",
         "MARYLAND",
         null,
         "lge",
         null,
         null,
         null,
         null,
         null,
         null,
         null,
         null,
         "E",
         null,
         null,
         null
        ],
        [
         "2",
         "BALTIMORE",
         null,
         "24 inch bins",
         "HOWDEN TYPE",
         null,
         null,
         "9/24/16",
         "160.0",
         "160.0",
         "160.0",
         "160.0",
         "DELAWARE",
         null,
         "med",
         "ORANGE",
         null,
         null,
         null,
         null,
         null,
         null,
         null,
         "N",
         null,
         null,
         null
        ],
        [
         "3",
         "BALTIMORE",
         null,
         "24 inch bins",
         "HOWDEN TYPE",
         null,
         null,
         "9/24/16",
         "160.0",
         "160.0",
         "160.0",
         "160.0",
         "VIRGINIA",
         null,
         "med",
         "ORANGE",
         null,
         null,
         null,
         null,
         null,
         null,
         null,
         "N",
         null,
         null,
         null
        ],
        [
         "4",
         "BALTIMORE",
         null,
         "24 inch bins",
         "HOWDEN TYPE",
         null,
         null,
         "11/5/16",
         "90.0",
         "100.0",
         "90.0",
         "100.0",
         "MARYLAND",
         null,
         "lge",
         "ORANGE",
         null,
         null,
         null,
         null,
         null,
         null,
         null,
         "N",
         null,
         null,
         null
        ]
       ],
       "shape": {
        "columns": 26,
        "rows": 5
       }
      },
      "text/html": [
       "<div>\n",
       "<style scoped>\n",
       "    .dataframe tbody tr th:only-of-type {\n",
       "        vertical-align: middle;\n",
       "    }\n",
       "\n",
       "    .dataframe tbody tr th {\n",
       "        vertical-align: top;\n",
       "    }\n",
       "\n",
       "    .dataframe thead th {\n",
       "        text-align: right;\n",
       "    }\n",
       "</style>\n",
       "<table border=\"1\" class=\"dataframe\">\n",
       "  <thead>\n",
       "    <tr style=\"text-align: right;\">\n",
       "      <th></th>\n",
       "      <th>City Name</th>\n",
       "      <th>Type</th>\n",
       "      <th>Package</th>\n",
       "      <th>Variety</th>\n",
       "      <th>Sub Variety</th>\n",
       "      <th>Grade</th>\n",
       "      <th>Date</th>\n",
       "      <th>Low Price</th>\n",
       "      <th>High Price</th>\n",
       "      <th>Mostly Low</th>\n",
       "      <th>...</th>\n",
       "      <th>Unit of Sale</th>\n",
       "      <th>Quality</th>\n",
       "      <th>Condition</th>\n",
       "      <th>Appearance</th>\n",
       "      <th>Storage</th>\n",
       "      <th>Crop</th>\n",
       "      <th>Repack</th>\n",
       "      <th>Trans Mode</th>\n",
       "      <th>Unnamed: 24</th>\n",
       "      <th>Unnamed: 25</th>\n",
       "    </tr>\n",
       "  </thead>\n",
       "  <tbody>\n",
       "    <tr>\n",
       "      <th>0</th>\n",
       "      <td>BALTIMORE</td>\n",
       "      <td>NaN</td>\n",
       "      <td>24 inch bins</td>\n",
       "      <td>NaN</td>\n",
       "      <td>NaN</td>\n",
       "      <td>NaN</td>\n",
       "      <td>4/29/17</td>\n",
       "      <td>270.0</td>\n",
       "      <td>280.0</td>\n",
       "      <td>270.0</td>\n",
       "      <td>...</td>\n",
       "      <td>NaN</td>\n",
       "      <td>NaN</td>\n",
       "      <td>NaN</td>\n",
       "      <td>NaN</td>\n",
       "      <td>NaN</td>\n",
       "      <td>NaN</td>\n",
       "      <td>E</td>\n",
       "      <td>NaN</td>\n",
       "      <td>NaN</td>\n",
       "      <td>NaN</td>\n",
       "    </tr>\n",
       "    <tr>\n",
       "      <th>1</th>\n",
       "      <td>BALTIMORE</td>\n",
       "      <td>NaN</td>\n",
       "      <td>24 inch bins</td>\n",
       "      <td>NaN</td>\n",
       "      <td>NaN</td>\n",
       "      <td>NaN</td>\n",
       "      <td>5/6/17</td>\n",
       "      <td>270.0</td>\n",
       "      <td>280.0</td>\n",
       "      <td>270.0</td>\n",
       "      <td>...</td>\n",
       "      <td>NaN</td>\n",
       "      <td>NaN</td>\n",
       "      <td>NaN</td>\n",
       "      <td>NaN</td>\n",
       "      <td>NaN</td>\n",
       "      <td>NaN</td>\n",
       "      <td>E</td>\n",
       "      <td>NaN</td>\n",
       "      <td>NaN</td>\n",
       "      <td>NaN</td>\n",
       "    </tr>\n",
       "    <tr>\n",
       "      <th>2</th>\n",
       "      <td>BALTIMORE</td>\n",
       "      <td>NaN</td>\n",
       "      <td>24 inch bins</td>\n",
       "      <td>HOWDEN TYPE</td>\n",
       "      <td>NaN</td>\n",
       "      <td>NaN</td>\n",
       "      <td>9/24/16</td>\n",
       "      <td>160.0</td>\n",
       "      <td>160.0</td>\n",
       "      <td>160.0</td>\n",
       "      <td>...</td>\n",
       "      <td>NaN</td>\n",
       "      <td>NaN</td>\n",
       "      <td>NaN</td>\n",
       "      <td>NaN</td>\n",
       "      <td>NaN</td>\n",
       "      <td>NaN</td>\n",
       "      <td>N</td>\n",
       "      <td>NaN</td>\n",
       "      <td>NaN</td>\n",
       "      <td>NaN</td>\n",
       "    </tr>\n",
       "    <tr>\n",
       "      <th>3</th>\n",
       "      <td>BALTIMORE</td>\n",
       "      <td>NaN</td>\n",
       "      <td>24 inch bins</td>\n",
       "      <td>HOWDEN TYPE</td>\n",
       "      <td>NaN</td>\n",
       "      <td>NaN</td>\n",
       "      <td>9/24/16</td>\n",
       "      <td>160.0</td>\n",
       "      <td>160.0</td>\n",
       "      <td>160.0</td>\n",
       "      <td>...</td>\n",
       "      <td>NaN</td>\n",
       "      <td>NaN</td>\n",
       "      <td>NaN</td>\n",
       "      <td>NaN</td>\n",
       "      <td>NaN</td>\n",
       "      <td>NaN</td>\n",
       "      <td>N</td>\n",
       "      <td>NaN</td>\n",
       "      <td>NaN</td>\n",
       "      <td>NaN</td>\n",
       "    </tr>\n",
       "    <tr>\n",
       "      <th>4</th>\n",
       "      <td>BALTIMORE</td>\n",
       "      <td>NaN</td>\n",
       "      <td>24 inch bins</td>\n",
       "      <td>HOWDEN TYPE</td>\n",
       "      <td>NaN</td>\n",
       "      <td>NaN</td>\n",
       "      <td>11/5/16</td>\n",
       "      <td>90.0</td>\n",
       "      <td>100.0</td>\n",
       "      <td>90.0</td>\n",
       "      <td>...</td>\n",
       "      <td>NaN</td>\n",
       "      <td>NaN</td>\n",
       "      <td>NaN</td>\n",
       "      <td>NaN</td>\n",
       "      <td>NaN</td>\n",
       "      <td>NaN</td>\n",
       "      <td>N</td>\n",
       "      <td>NaN</td>\n",
       "      <td>NaN</td>\n",
       "      <td>NaN</td>\n",
       "    </tr>\n",
       "  </tbody>\n",
       "</table>\n",
       "<p>5 rows × 26 columns</p>\n",
       "</div>"
      ],
      "text/plain": [
       "   City Name Type       Package      Variety Sub Variety  Grade     Date  \\\n",
       "0  BALTIMORE  NaN  24 inch bins          NaN         NaN    NaN  4/29/17   \n",
       "1  BALTIMORE  NaN  24 inch bins          NaN         NaN    NaN   5/6/17   \n",
       "2  BALTIMORE  NaN  24 inch bins  HOWDEN TYPE         NaN    NaN  9/24/16   \n",
       "3  BALTIMORE  NaN  24 inch bins  HOWDEN TYPE         NaN    NaN  9/24/16   \n",
       "4  BALTIMORE  NaN  24 inch bins  HOWDEN TYPE         NaN    NaN  11/5/16   \n",
       "\n",
       "   Low Price  High Price  Mostly Low  ...  Unit of Sale Quality Condition  \\\n",
       "0      270.0       280.0       270.0  ...           NaN     NaN       NaN   \n",
       "1      270.0       280.0       270.0  ...           NaN     NaN       NaN   \n",
       "2      160.0       160.0       160.0  ...           NaN     NaN       NaN   \n",
       "3      160.0       160.0       160.0  ...           NaN     NaN       NaN   \n",
       "4       90.0       100.0        90.0  ...           NaN     NaN       NaN   \n",
       "\n",
       "  Appearance Storage  Crop Repack  Trans Mode  Unnamed: 24  Unnamed: 25  \n",
       "0        NaN     NaN   NaN      E         NaN          NaN          NaN  \n",
       "1        NaN     NaN   NaN      E         NaN          NaN          NaN  \n",
       "2        NaN     NaN   NaN      N         NaN          NaN          NaN  \n",
       "3        NaN     NaN   NaN      N         NaN          NaN          NaN  \n",
       "4        NaN     NaN   NaN      N         NaN          NaN          NaN  \n",
       "\n",
       "[5 rows x 26 columns]"
      ]
     },
     "execution_count": 45,
     "metadata": {},
     "output_type": "execute_result"
    }
   ],
   "source": [
    "# Import necesarry libraries\n",
    "import pandas as pd\n",
    "import matplotlib.pyplot as plt\n",
    "import seaborn as sns\n",
    "\n",
    "# Import pumpkin data\n",
    "pumpkins = pd.read_csv('../data/US-pumpkins.csv')\n",
    "\n",
    "pumpkins.head()"
   ]
  },
  {
   "cell_type": "code",
   "execution_count": 46,
   "id": "82336f7a",
   "metadata": {},
   "outputs": [
    {
     "data": {
      "image/png": "[encoded data removed]",
      "text/plain": [
       "<Figure size 800x500 with 1 Axes>"
      ]
     },
     "metadata": {},
     "output_type": "display_data"
    }
   ],
   "source": [
    "# Average pumpkin price per month\n",
    "pumpkins_varieties = pumpkins.groupby('Variety')['Package'].count()\n",
    "\n",
    "plt.figure(figsize=(8,5))\n",
    "pumpkins_varieties.plot(kind='barh')\n",
    "plt.title(\"Varities of Pumpkins Sold\")\n",
    "plt.ylabel(\"Variety Sold\")\n",
    "plt.xlabel(\"Number of Pumpkin Sold\")\n",
    "plt.grid(True)\n",
    "plt.show()"
   ]
  },
  {
   "cell_type": "code",
   "execution_count": 57,
   "id": "6efa2fa9",
   "metadata": {},
   "outputs": [
    {
     "name": "stderr",
     "output_type": "stream",
     "text": [
      "C:\\Users\\DAMILARE-PC\\AppData\\Local\\Temp\\ipykernel_16688\\3897804714.py:3: FutureWarning: \n",
      "\n",
      "Passing `palette` without assigning `hue` is deprecated and will be removed in v0.14.0. Assign the `x` variable to `hue` and set `legend=False` for the same effect.\n",
      "\n",
      "  sns.barplot(pumpkins_color, palette='Set2')\n"
     ]
    },
    {
     "data": {
      "image/png": "[encoded data removed]",
      "text/plain": [
       "<Figure size 640x480 with 1 Axes>"
      ]
     },
     "metadata": {},
     "output_type": "display_data"
    }
   ],
   "source": [
    "# Pumpkins by Colour\n",
    "pumpkins_color = pumpkins.groupby('Color')['Package'].count()\n",
    "sns.barplot(pumpkins_color, palette='Set2')\n",
    "plt.title(\"Color of Pumpkins Sold\")\n",
    "plt.xlabel(\"Colors\")\n",
    "plt.ylabel(\"Number of Pumpkin\")\n",
    "plt.grid(True)\n",
    "plt.show()"
   ]
  },
  {
   "cell_type": "markdown",
   "id": "1d10702d",
   "metadata": {},
   "source": [
    "Seaborn is easier to work with for quick explotory analysis, while Matplotlib is better whne full control is needed."
   ]
  }
 ],
 "metadata": {
  "kernelspec": {
   "display_name": "Python 3",
   "language": "python",
   "name": "python3"
  },
  "language_info": {
   "codemirror_mode": {
    "name": "ipython",
    "version": 3
   },
   "file_extension": ".py",
   "mimetype": "text/x-python",
   "name": "python",
   "nbconvert_exporter": "python",
   "pygments_lexer": "ipython3",
   "version": "3.10.4"
  }
 },
 "nbformat": 4,
 "nbformat_minor": 5
}
