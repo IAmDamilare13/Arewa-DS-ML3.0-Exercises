{
 "cells": [
  {
   "cell_type": "markdown",
   "id": "f0e360d4",
   "metadata": {},
   "source": [
    "\n",
    "# K-Nearest Neighbors (KNN) Classifier — National Cuisine Dataset\n",
    "\n",
    "**Objective:** Build a KNN classifier for the provided `cleaned_cuisines.csv` dataset and **retrain/tweak parameters** (`n_neighbors`, `weights`, `metric`, `p`) to see how they affect model performance. The notebook includes explanations after each experiment to discuss why certain parameter choices help or degrade the model quality.\n"
   ]
  },
  {
   "cell_type": "code",
   "execution_count": 2,
   "id": "0028b79e",
   "metadata": {},
   "outputs": [
    {
     "name": "stdout",
     "output_type": "stream",
     "text": [
      "Shape: (3995, 381)\n"
     ]
    },
    {
     "data": {
      "application/vnd.microsoft.datawrangler.viewer.v0+json": {
       "columns": [
        {
         "name": "index",
         "rawType": "int64",
         "type": "integer"
        },
        {
         "name": "cuisine",
         "rawType": "object",
         "type": "string"
        },
        {
         "name": "almond",
         "rawType": "int64",
         "type": "integer"
        },
        {
         "name": "angelica",
         "rawType": "int64",
         "type": "integer"
        },
        {
         "name": "anise",
         "rawType": "int64",
         "type": "integer"
        },
        {
         "name": "anise_seed",
         "rawType": "int64",
         "type": "integer"
        },
        {
         "name": "apple",
         "rawType": "int64",
         "type": "integer"
        },
        {
         "name": "apple_brandy",
         "rawType": "int64",
         "type": "integer"
        },
        {
         "name": "apricot",
         "rawType": "int64",
         "type": "integer"
        },
        {
         "name": "armagnac",
         "rawType": "int64",
         "type": "integer"
        },
        {
         "name": "artemisia",
         "rawType": "int64",
         "type": "integer"
        },
        {
         "name": "artichoke",
         "rawType": "int64",
         "type": "integer"
        },
        {
         "name": "asparagus",
         "rawType": "int64",
         "type": "integer"
        },
        {
         "name": "avocado",
         "rawType": "int64",
         "type": "integer"
        },
        {
         "name": "bacon",
         "rawType": "int64",
         "type": "integer"
        },
        {
         "name": "baked_potato",
         "rawType": "int64",
         "type": "integer"
        },
        {
         "name": "balm",
         "rawType": "int64",
         "type": "integer"
        },
        {
         "name": "banana",
         "rawType": "int64",
         "type": "integer"
        },
        {
         "name": "barley",
         "rawType": "int64",
         "type": "integer"
        },
        {
         "name": "bartlett_pear",
         "rawType": "int64",
         "type": "integer"
        },
        {
         "name": "basil",
         "rawType": "int64",
         "type": "integer"
        },
        {
         "name": "bay",
         "rawType": "int64",
         "type": "integer"
        },
        {
         "name": "bean",
         "rawType": "int64",
         "type": "integer"
        },
        {
         "name": "beech",
         "rawType": "int64",
         "type": "integer"
        },
        {
         "name": "beef",
         "rawType": "int64",
         "type": "integer"
        },
        {
         "name": "beef_broth",
         "rawType": "int64",
         "type": "integer"
        },
        {
         "name": "beef_liver",
         "rawType": "int64",
         "type": "integer"
        },
        {
         "name": "beer",
         "rawType": "int64",
         "type": "integer"
        },
        {
         "name": "beet",
         "rawType": "int64",
         "type": "integer"
        },
        {
         "name": "bell_pepper",
         "rawType": "int64",
         "type": "integer"
        },
        {
         "name": "bergamot",
         "rawType": "int64",
         "type": "integer"
        },
        {
         "name": "berry",
         "rawType": "int64",
         "type": "integer"
        },
        {
         "name": "bitter_orange",
         "rawType": "int64",
         "type": "integer"
        },
        {
         "name": "black_bean",
         "rawType": "int64",
         "type": "integer"
        },
        {
         "name": "black_currant",
         "rawType": "int64",
         "type": "integer"
        },
        {
         "name": "black_mustard_seed_oil",
         "rawType": "int64",
         "type": "integer"
        },
        {
         "name": "black_pepper",
         "rawType": "int64",
         "type": "integer"
        },
        {
         "name": "black_raspberry",
         "rawType": "int64",
         "type": "integer"
        },
        {
         "name": "black_sesame_seed",
         "rawType": "int64",
         "type": "integer"
        },
        {
         "name": "black_tea",
         "rawType": "int64",
         "type": "integer"
        },
        {
         "name": "blackberry",
         "rawType": "int64",
         "type": "integer"
        },
        {
         "name": "blackberry_brandy",
         "rawType": "int64",
         "type": "integer"
        },
        {
         "name": "blue_cheese",
         "rawType": "int64",
         "type": "integer"
        },
        {
         "name": "blueberry",
         "rawType": "int64",
         "type": "integer"
        },
        {
         "name": "bone_oil",
         "rawType": "int64",
         "type": "integer"
        },
        {
         "name": "bourbon_whiskey",
         "rawType": "int64",
         "type": "integer"
        },
        {
         "name": "brandy",
         "rawType": "int64",
         "type": "integer"
        },
        {
         "name": "brassica",
         "rawType": "int64",
         "type": "integer"
        },
        {
         "name": "bread",
         "rawType": "int64",
         "type": "integer"
        },
        {
         "name": "broccoli",
         "rawType": "int64",
         "type": "integer"
        },
        {
         "name": "brown_rice",
         "rawType": "int64",
         "type": "integer"
        },
        {
         "name": "brussels_sprout",
         "rawType": "int64",
         "type": "integer"
        },
        {
         "name": "buckwheat",
         "rawType": "int64",
         "type": "integer"
        },
        {
         "name": "butter",
         "rawType": "int64",
         "type": "integer"
        },
        {
         "name": "buttermilk",
         "rawType": "int64",
         "type": "integer"
        },
        {
         "name": "cabbage",
         "rawType": "int64",
         "type": "integer"
        },
        {
         "name": "cabernet_sauvignon_wine",
         "rawType": "int64",
         "type": "integer"
        },
        {
         "name": "cacao",
         "rawType": "int64",
         "type": "integer"
        },
        {
         "name": "camembert_cheese",
         "rawType": "int64",
         "type": "integer"
        },
        {
         "name": "cane_molasses",
         "rawType": "int64",
         "type": "integer"
        },
        {
         "name": "caraway",
         "rawType": "int64",
         "type": "integer"
        },
        {
         "name": "cardamom",
         "rawType": "int64",
         "type": "integer"
        },
        {
         "name": "carnation",
         "rawType": "int64",
         "type": "integer"
        },
        {
         "name": "carob",
         "rawType": "int64",
         "type": "integer"
        },
        {
         "name": "carrot",
         "rawType": "int64",
         "type": "integer"
        },
        {
         "name": "cashew",
         "rawType": "int64",
         "type": "integer"
        },
        {
         "name": "cassava",
         "rawType": "int64",
         "type": "integer"
        },
        {
         "name": "catfish",
         "rawType": "int64",
         "type": "integer"
        },
        {
         "name": "cauliflower",
         "rawType": "int64",
         "type": "integer"
        },
        {
         "name": "caviar",
         "rawType": "int64",
         "type": "integer"
        },
        {
         "name": "cayenne",
         "rawType": "int64",
         "type": "integer"
        },
        {
         "name": "celery",
         "rawType": "int64",
         "type": "integer"
        },
        {
         "name": "celery_oil",
         "rawType": "int64",
         "type": "integer"
        },
        {
         "name": "cereal",
         "rawType": "int64",
         "type": "integer"
        },
        {
         "name": "chamomile",
         "rawType": "int64",
         "type": "integer"
        },
        {
         "name": "champagne_wine",
         "rawType": "int64",
         "type": "integer"
        },
        {
         "name": "chayote",
         "rawType": "int64",
         "type": "integer"
        },
        {
         "name": "cheddar_cheese",
         "rawType": "int64",
         "type": "integer"
        },
        {
         "name": "cheese",
         "rawType": "int64",
         "type": "integer"
        },
        {
         "name": "cherry",
         "rawType": "int64",
         "type": "integer"
        },
        {
         "name": "cherry_brandy",
         "rawType": "int64",
         "type": "integer"
        },
        {
         "name": "chervil",
         "rawType": "int64",
         "type": "integer"
        },
        {
         "name": "chicken",
         "rawType": "int64",
         "type": "integer"
        },
        {
         "name": "chicken_broth",
         "rawType": "int64",
         "type": "integer"
        },
        {
         "name": "chicken_liver",
         "rawType": "int64",
         "type": "integer"
        },
        {
         "name": "chickpea",
         "rawType": "int64",
         "type": "integer"
        },
        {
         "name": "chicory",
         "rawType": "int64",
         "type": "integer"
        },
        {
         "name": "chinese_cabbage",
         "rawType": "int64",
         "type": "integer"
        },
        {
         "name": "chive",
         "rawType": "int64",
         "type": "integer"
        },
        {
         "name": "cider",
         "rawType": "int64",
         "type": "integer"
        },
        {
         "name": "cilantro",
         "rawType": "int64",
         "type": "integer"
        },
        {
         "name": "cinnamon",
         "rawType": "int64",
         "type": "integer"
        },
        {
         "name": "citrus",
         "rawType": "int64",
         "type": "integer"
        },
        {
         "name": "citrus_peel",
         "rawType": "int64",
         "type": "integer"
        },
        {
         "name": "clam",
         "rawType": "int64",
         "type": "integer"
        },
        {
         "name": "clove",
         "rawType": "int64",
         "type": "integer"
        },
        {
         "name": "cocoa",
         "rawType": "int64",
         "type": "integer"
        },
        {
         "name": "coconut",
         "rawType": "int64",
         "type": "integer"
        },
        {
         "name": "coconut_oil",
         "rawType": "int64",
         "type": "integer"
        },
        {
         "name": "cod",
         "rawType": "int64",
         "type": "integer"
        },
        {
         "name": "coffee",
         "rawType": "int64",
         "type": "integer"
        },
        {
         "name": "cognac",
         "rawType": "int64",
         "type": "integer"
        },
        {
         "name": "concord_grape",
         "rawType": "int64",
         "type": "integer"
        },
        {
         "name": "condiment",
         "rawType": "int64",
         "type": "integer"
        },
        {
         "name": "coriander",
         "rawType": "int64",
         "type": "integer"
        },
        {
         "name": "corn",
         "rawType": "int64",
         "type": "integer"
        },
        {
         "name": "corn_flake",
         "rawType": "int64",
         "type": "integer"
        },
        {
         "name": "corn_grit",
         "rawType": "int64",
         "type": "integer"
        },
        {
         "name": "cottage_cheese",
         "rawType": "int64",
         "type": "integer"
        },
        {
         "name": "crab",
         "rawType": "int64",
         "type": "integer"
        },
        {
         "name": "cranberry",
         "rawType": "int64",
         "type": "integer"
        },
        {
         "name": "cream",
         "rawType": "int64",
         "type": "integer"
        },
        {
         "name": "cream_cheese",
         "rawType": "int64",
         "type": "integer"
        },
        {
         "name": "cucumber",
         "rawType": "int64",
         "type": "integer"
        },
        {
         "name": "cumin",
         "rawType": "int64",
         "type": "integer"
        },
        {
         "name": "cured_pork",
         "rawType": "int64",
         "type": "integer"
        },
        {
         "name": "currant",
         "rawType": "int64",
         "type": "integer"
        },
        {
         "name": "date",
         "rawType": "int64",
         "type": "integer"
        },
        {
         "name": "dill",
         "rawType": "int64",
         "type": "integer"
        },
        {
         "name": "durian",
         "rawType": "int64",
         "type": "integer"
        },
        {
         "name": "eel",
         "rawType": "int64",
         "type": "integer"
        },
        {
         "name": "egg",
         "rawType": "int64",
         "type": "integer"
        },
        {
         "name": "egg_noodle",
         "rawType": "int64",
         "type": "integer"
        },
        {
         "name": "elderberry",
         "rawType": "int64",
         "type": "integer"
        },
        {
         "name": "emmental_cheese",
         "rawType": "int64",
         "type": "integer"
        },
        {
         "name": "endive",
         "rawType": "int64",
         "type": "integer"
        },
        {
         "name": "enokidake",
         "rawType": "int64",
         "type": "integer"
        },
        {
         "name": "fennel",
         "rawType": "int64",
         "type": "integer"
        },
        {
         "name": "fenugreek",
         "rawType": "int64",
         "type": "integer"
        },
        {
         "name": "feta_cheese",
         "rawType": "int64",
         "type": "integer"
        },
        {
         "name": "fig",
         "rawType": "int64",
         "type": "integer"
        },
        {
         "name": "fish",
         "rawType": "int64",
         "type": "integer"
        },
        {
         "name": "flower",
         "rawType": "int64",
         "type": "integer"
        },
        {
         "name": "frankfurter",
         "rawType": "int64",
         "type": "integer"
        },
        {
         "name": "fruit",
         "rawType": "int64",
         "type": "integer"
        },
        {
         "name": "galanga",
         "rawType": "int64",
         "type": "integer"
        },
        {
         "name": "gardenia",
         "rawType": "int64",
         "type": "integer"
        },
        {
         "name": "gelatin",
         "rawType": "int64",
         "type": "integer"
        },
        {
         "name": "geranium",
         "rawType": "int64",
         "type": "integer"
        },
        {
         "name": "gin",
         "rawType": "int64",
         "type": "integer"
        },
        {
         "name": "goat_cheese",
         "rawType": "int64",
         "type": "integer"
        },
        {
         "name": "grape",
         "rawType": "int64",
         "type": "integer"
        },
        {
         "name": "grape_brandy",
         "rawType": "int64",
         "type": "integer"
        },
        {
         "name": "grape_juice",
         "rawType": "int64",
         "type": "integer"
        },
        {
         "name": "grapefruit",
         "rawType": "int64",
         "type": "integer"
        },
        {
         "name": "green_bell_pepper",
         "rawType": "int64",
         "type": "integer"
        },
        {
         "name": "green_tea",
         "rawType": "int64",
         "type": "integer"
        },
        {
         "name": "gruyere_cheese",
         "rawType": "int64",
         "type": "integer"
        },
        {
         "name": "guava",
         "rawType": "int64",
         "type": "integer"
        },
        {
         "name": "haddock",
         "rawType": "int64",
         "type": "integer"
        },
        {
         "name": "ham",
         "rawType": "int64",
         "type": "integer"
        },
        {
         "name": "hazelnut",
         "rawType": "int64",
         "type": "integer"
        },
        {
         "name": "herring",
         "rawType": "int64",
         "type": "integer"
        },
        {
         "name": "holy_basil",
         "rawType": "int64",
         "type": "integer"
        },
        {
         "name": "honey",
         "rawType": "int64",
         "type": "integer"
        },
        {
         "name": "hop",
         "rawType": "int64",
         "type": "integer"
        },
        {
         "name": "horseradish",
         "rawType": "int64",
         "type": "integer"
        },
        {
         "name": "huckleberry",
         "rawType": "int64",
         "type": "integer"
        },
        {
         "name": "jamaican_rum",
         "rawType": "int64",
         "type": "integer"
        },
        {
         "name": "japanese_plum",
         "rawType": "int64",
         "type": "integer"
        },
        {
         "name": "jasmine",
         "rawType": "int64",
         "type": "integer"
        },
        {
         "name": "jasmine_tea",
         "rawType": "int64",
         "type": "integer"
        },
        {
         "name": "juniper_berry",
         "rawType": "int64",
         "type": "integer"
        },
        {
         "name": "kaffir_lime",
         "rawType": "int64",
         "type": "integer"
        },
        {
         "name": "kale",
         "rawType": "int64",
         "type": "integer"
        },
        {
         "name": "katsuobushi",
         "rawType": "int64",
         "type": "integer"
        },
        {
         "name": "kelp",
         "rawType": "int64",
         "type": "integer"
        },
        {
         "name": "kidney_bean",
         "rawType": "int64",
         "type": "integer"
        },
        {
         "name": "kiwi",
         "rawType": "int64",
         "type": "integer"
        },
        {
         "name": "kohlrabi",
         "rawType": "int64",
         "type": "integer"
        },
        {
         "name": "kumquat",
         "rawType": "int64",
         "type": "integer"
        },
        {
         "name": "lamb",
         "rawType": "int64",
         "type": "integer"
        },
        {
         "name": "lard",
         "rawType": "int64",
         "type": "integer"
        },
        {
         "name": "laurel",
         "rawType": "int64",
         "type": "integer"
        },
        {
         "name": "lavender",
         "rawType": "int64",
         "type": "integer"
        },
        {
         "name": "leaf",
         "rawType": "int64",
         "type": "integer"
        },
        {
         "name": "leek",
         "rawType": "int64",
         "type": "integer"
        },
        {
         "name": "lemon",
         "rawType": "int64",
         "type": "integer"
        },
        {
         "name": "lemon_juice",
         "rawType": "int64",
         "type": "integer"
        },
        {
         "name": "lemon_peel",
         "rawType": "int64",
         "type": "integer"
        },
        {
         "name": "lemongrass",
         "rawType": "int64",
         "type": "integer"
        },
        {
         "name": "lentil",
         "rawType": "int64",
         "type": "integer"
        },
        {
         "name": "lettuce",
         "rawType": "int64",
         "type": "integer"
        },
        {
         "name": "licorice",
         "rawType": "int64",
         "type": "integer"
        },
        {
         "name": "lilac_flower_oil",
         "rawType": "int64",
         "type": "integer"
        },
        {
         "name": "lima_bean",
         "rawType": "int64",
         "type": "integer"
        },
        {
         "name": "lime",
         "rawType": "int64",
         "type": "integer"
        },
        {
         "name": "lime_juice",
         "rawType": "int64",
         "type": "integer"
        },
        {
         "name": "lime_peel_oil",
         "rawType": "int64",
         "type": "integer"
        },
        {
         "name": "lingonberry",
         "rawType": "int64",
         "type": "integer"
        },
        {
         "name": "litchi",
         "rawType": "int64",
         "type": "integer"
        },
        {
         "name": "liver",
         "rawType": "int64",
         "type": "integer"
        },
        {
         "name": "lobster",
         "rawType": "int64",
         "type": "integer"
        },
        {
         "name": "long_pepper",
         "rawType": "int64",
         "type": "integer"
        },
        {
         "name": "lovage",
         "rawType": "int64",
         "type": "integer"
        },
        {
         "name": "macadamia_nut",
         "rawType": "int64",
         "type": "integer"
        },
        {
         "name": "macaroni",
         "rawType": "int64",
         "type": "integer"
        },
        {
         "name": "mace",
         "rawType": "int64",
         "type": "integer"
        },
        {
         "name": "mackerel",
         "rawType": "int64",
         "type": "integer"
        },
        {
         "name": "malt",
         "rawType": "int64",
         "type": "integer"
        },
        {
         "name": "mandarin",
         "rawType": "int64",
         "type": "integer"
        },
        {
         "name": "mandarin_peel",
         "rawType": "int64",
         "type": "integer"
        },
        {
         "name": "mango",
         "rawType": "int64",
         "type": "integer"
        },
        {
         "name": "maple_syrup",
         "rawType": "int64",
         "type": "integer"
        },
        {
         "name": "marjoram",
         "rawType": "int64",
         "type": "integer"
        },
        {
         "name": "mate",
         "rawType": "int64",
         "type": "integer"
        },
        {
         "name": "matsutake",
         "rawType": "int64",
         "type": "integer"
        },
        {
         "name": "meat",
         "rawType": "int64",
         "type": "integer"
        },
        {
         "name": "melon",
         "rawType": "int64",
         "type": "integer"
        },
        {
         "name": "milk",
         "rawType": "int64",
         "type": "integer"
        },
        {
         "name": "milk_fat",
         "rawType": "int64",
         "type": "integer"
        },
        {
         "name": "mint",
         "rawType": "int64",
         "type": "integer"
        },
        {
         "name": "mozzarella_cheese",
         "rawType": "int64",
         "type": "integer"
        },
        {
         "name": "mung_bean",
         "rawType": "int64",
         "type": "integer"
        },
        {
         "name": "munster_cheese",
         "rawType": "int64",
         "type": "integer"
        },
        {
         "name": "muscat_grape",
         "rawType": "int64",
         "type": "integer"
        },
        {
         "name": "mushroom",
         "rawType": "int64",
         "type": "integer"
        },
        {
         "name": "mussel",
         "rawType": "int64",
         "type": "integer"
        },
        {
         "name": "mustard",
         "rawType": "int64",
         "type": "integer"
        },
        {
         "name": "mutton",
         "rawType": "int64",
         "type": "integer"
        },
        {
         "name": "nectarine",
         "rawType": "int64",
         "type": "integer"
        },
        {
         "name": "nira",
         "rawType": "int64",
         "type": "integer"
        },
        {
         "name": "nut",
         "rawType": "int64",
         "type": "integer"
        },
        {
         "name": "nutmeg",
         "rawType": "int64",
         "type": "integer"
        },
        {
         "name": "oat",
         "rawType": "int64",
         "type": "integer"
        },
        {
         "name": "oatmeal",
         "rawType": "int64",
         "type": "integer"
        },
        {
         "name": "octopus",
         "rawType": "int64",
         "type": "integer"
        },
        {
         "name": "okra",
         "rawType": "int64",
         "type": "integer"
        },
        {
         "name": "olive",
         "rawType": "int64",
         "type": "integer"
        },
        {
         "name": "olive_oil",
         "rawType": "int64",
         "type": "integer"
        },
        {
         "name": "onion",
         "rawType": "int64",
         "type": "integer"
        },
        {
         "name": "orange",
         "rawType": "int64",
         "type": "integer"
        },
        {
         "name": "orange_flower",
         "rawType": "int64",
         "type": "integer"
        },
        {
         "name": "orange_juice",
         "rawType": "int64",
         "type": "integer"
        },
        {
         "name": "orange_peel",
         "rawType": "int64",
         "type": "integer"
        },
        {
         "name": "oregano",
         "rawType": "int64",
         "type": "integer"
        },
        {
         "name": "ouzo",
         "rawType": "int64",
         "type": "integer"
        },
        {
         "name": "oyster",
         "rawType": "int64",
         "type": "integer"
        },
        {
         "name": "palm",
         "rawType": "int64",
         "type": "integer"
        },
        {
         "name": "papaya",
         "rawType": "int64",
         "type": "integer"
        },
        {
         "name": "parmesan_cheese",
         "rawType": "int64",
         "type": "integer"
        },
        {
         "name": "parsley",
         "rawType": "int64",
         "type": "integer"
        },
        {
         "name": "parsnip",
         "rawType": "int64",
         "type": "integer"
        },
        {
         "name": "passion_fruit",
         "rawType": "int64",
         "type": "integer"
        },
        {
         "name": "pea",
         "rawType": "int64",
         "type": "integer"
        },
        {
         "name": "peach",
         "rawType": "int64",
         "type": "integer"
        },
        {
         "name": "peanut",
         "rawType": "int64",
         "type": "integer"
        },
        {
         "name": "peanut_butter",
         "rawType": "int64",
         "type": "integer"
        },
        {
         "name": "peanut_oil",
         "rawType": "int64",
         "type": "integer"
        },
        {
         "name": "pear",
         "rawType": "int64",
         "type": "integer"
        },
        {
         "name": "pear_brandy",
         "rawType": "int64",
         "type": "integer"
        },
        {
         "name": "pecan",
         "rawType": "int64",
         "type": "integer"
        },
        {
         "name": "pelargonium",
         "rawType": "int64",
         "type": "integer"
        },
        {
         "name": "pepper",
         "rawType": "int64",
         "type": "integer"
        },
        {
         "name": "peppermint",
         "rawType": "int64",
         "type": "integer"
        },
        {
         "name": "peppermint_oil",
         "rawType": "int64",
         "type": "integer"
        },
        {
         "name": "pimenta",
         "rawType": "int64",
         "type": "integer"
        },
        {
         "name": "pimento",
         "rawType": "int64",
         "type": "integer"
        },
        {
         "name": "pineapple",
         "rawType": "int64",
         "type": "integer"
        },
        {
         "name": "pistachio",
         "rawType": "int64",
         "type": "integer"
        },
        {
         "name": "plum",
         "rawType": "int64",
         "type": "integer"
        },
        {
         "name": "popcorn",
         "rawType": "int64",
         "type": "integer"
        },
        {
         "name": "porcini",
         "rawType": "int64",
         "type": "integer"
        },
        {
         "name": "pork",
         "rawType": "int64",
         "type": "integer"
        },
        {
         "name": "pork_liver",
         "rawType": "int64",
         "type": "integer"
        },
        {
         "name": "pork_sausage",
         "rawType": "int64",
         "type": "integer"
        },
        {
         "name": "port_wine",
         "rawType": "int64",
         "type": "integer"
        },
        {
         "name": "potato",
         "rawType": "int64",
         "type": "integer"
        },
        {
         "name": "potato_chip",
         "rawType": "int64",
         "type": "integer"
        },
        {
         "name": "prawn",
         "rawType": "int64",
         "type": "integer"
        },
        {
         "name": "prickly_pear",
         "rawType": "int64",
         "type": "integer"
        },
        {
         "name": "provolone_cheese",
         "rawType": "int64",
         "type": "integer"
        },
        {
         "name": "pumpkin",
         "rawType": "int64",
         "type": "integer"
        },
        {
         "name": "quince",
         "rawType": "int64",
         "type": "integer"
        },
        {
         "name": "radish",
         "rawType": "int64",
         "type": "integer"
        },
        {
         "name": "raisin",
         "rawType": "int64",
         "type": "integer"
        },
        {
         "name": "rapeseed",
         "rawType": "int64",
         "type": "integer"
        },
        {
         "name": "raspberry",
         "rawType": "int64",
         "type": "integer"
        },
        {
         "name": "raw_beef",
         "rawType": "int64",
         "type": "integer"
        },
        {
         "name": "red_algae",
         "rawType": "int64",
         "type": "integer"
        },
        {
         "name": "red_bean",
         "rawType": "int64",
         "type": "integer"
        },
        {
         "name": "red_kidney_bean",
         "rawType": "int64",
         "type": "integer"
        },
        {
         "name": "red_wine",
         "rawType": "int64",
         "type": "integer"
        },
        {
         "name": "rhubarb",
         "rawType": "int64",
         "type": "integer"
        },
        {
         "name": "roasted_almond",
         "rawType": "int64",
         "type": "integer"
        },
        {
         "name": "roasted_beef",
         "rawType": "int64",
         "type": "integer"
        },
        {
         "name": "roasted_hazelnut",
         "rawType": "int64",
         "type": "integer"
        },
        {
         "name": "roasted_meat",
         "rawType": "int64",
         "type": "integer"
        },
        {
         "name": "roasted_nut",
         "rawType": "int64",
         "type": "integer"
        },
        {
         "name": "roasted_peanut",
         "rawType": "int64",
         "type": "integer"
        },
        {
         "name": "roasted_pecan",
         "rawType": "int64",
         "type": "integer"
        },
        {
         "name": "roasted_pork",
         "rawType": "int64",
         "type": "integer"
        },
        {
         "name": "roasted_sesame_seed",
         "rawType": "int64",
         "type": "integer"
        },
        {
         "name": "romano_cheese",
         "rawType": "int64",
         "type": "integer"
        },
        {
         "name": "root",
         "rawType": "int64",
         "type": "integer"
        },
        {
         "name": "roquefort_cheese",
         "rawType": "int64",
         "type": "integer"
        },
        {
         "name": "rose",
         "rawType": "int64",
         "type": "integer"
        },
        {
         "name": "rosemary",
         "rawType": "int64",
         "type": "integer"
        },
        {
         "name": "rum",
         "rawType": "int64",
         "type": "integer"
        },
        {
         "name": "rutabaga",
         "rawType": "int64",
         "type": "integer"
        },
        {
         "name": "rye_bread",
         "rawType": "int64",
         "type": "integer"
        },
        {
         "name": "rye_flour",
         "rawType": "int64",
         "type": "integer"
        },
        {
         "name": "saffron",
         "rawType": "int64",
         "type": "integer"
        },
        {
         "name": "sage",
         "rawType": "int64",
         "type": "integer"
        },
        {
         "name": "sake",
         "rawType": "int64",
         "type": "integer"
        },
        {
         "name": "salmon",
         "rawType": "int64",
         "type": "integer"
        },
        {
         "name": "salmon_roe",
         "rawType": "int64",
         "type": "integer"
        },
        {
         "name": "sassafras",
         "rawType": "int64",
         "type": "integer"
        },
        {
         "name": "sauerkraut",
         "rawType": "int64",
         "type": "integer"
        },
        {
         "name": "savory",
         "rawType": "int64",
         "type": "integer"
        },
        {
         "name": "scallion",
         "rawType": "int64",
         "type": "integer"
        },
        {
         "name": "scallop",
         "rawType": "int64",
         "type": "integer"
        },
        {
         "name": "sea_algae",
         "rawType": "int64",
         "type": "integer"
        },
        {
         "name": "seaweed",
         "rawType": "int64",
         "type": "integer"
        },
        {
         "name": "seed",
         "rawType": "int64",
         "type": "integer"
        },
        {
         "name": "sesame_oil",
         "rawType": "int64",
         "type": "integer"
        },
        {
         "name": "sesame_seed",
         "rawType": "int64",
         "type": "integer"
        },
        {
         "name": "shallot",
         "rawType": "int64",
         "type": "integer"
        },
        {
         "name": "sheep_cheese",
         "rawType": "int64",
         "type": "integer"
        },
        {
         "name": "shellfish",
         "rawType": "int64",
         "type": "integer"
        },
        {
         "name": "sherry",
         "rawType": "int64",
         "type": "integer"
        },
        {
         "name": "shiitake",
         "rawType": "int64",
         "type": "integer"
        },
        {
         "name": "shrimp",
         "rawType": "int64",
         "type": "integer"
        },
        {
         "name": "smoke",
         "rawType": "int64",
         "type": "integer"
        },
        {
         "name": "smoked_fish",
         "rawType": "int64",
         "type": "integer"
        },
        {
         "name": "smoked_salmon",
         "rawType": "int64",
         "type": "integer"
        },
        {
         "name": "smoked_sausage",
         "rawType": "int64",
         "type": "integer"
        },
        {
         "name": "sour_cherry",
         "rawType": "int64",
         "type": "integer"
        },
        {
         "name": "sour_milk",
         "rawType": "int64",
         "type": "integer"
        },
        {
         "name": "soy_sauce",
         "rawType": "int64",
         "type": "integer"
        },
        {
         "name": "soybean",
         "rawType": "int64",
         "type": "integer"
        },
        {
         "name": "soybean_oil",
         "rawType": "int64",
         "type": "integer"
        },
        {
         "name": "spearmint",
         "rawType": "int64",
         "type": "integer"
        },
        {
         "name": "squash",
         "rawType": "int64",
         "type": "integer"
        },
        {
         "name": "squid",
         "rawType": "int64",
         "type": "integer"
        },
        {
         "name": "star_anise",
         "rawType": "int64",
         "type": "integer"
        },
        {
         "name": "starch",
         "rawType": "int64",
         "type": "integer"
        },
        {
         "name": "strawberry",
         "rawType": "int64",
         "type": "integer"
        },
        {
         "name": "strawberry_jam",
         "rawType": "int64",
         "type": "integer"
        },
        {
         "name": "strawberry_juice",
         "rawType": "int64",
         "type": "integer"
        },
        {
         "name": "sturgeon_caviar",
         "rawType": "int64",
         "type": "integer"
        },
        {
         "name": "sumac",
         "rawType": "int64",
         "type": "integer"
        },
        {
         "name": "sunflower_oil",
         "rawType": "int64",
         "type": "integer"
        },
        {
         "name": "sweet_potato",
         "rawType": "int64",
         "type": "integer"
        },
        {
         "name": "swiss_cheese",
         "rawType": "int64",
         "type": "integer"
        },
        {
         "name": "tabasco_pepper",
         "rawType": "int64",
         "type": "integer"
        },
        {
         "name": "tamarind",
         "rawType": "int64",
         "type": "integer"
        },
        {
         "name": "tangerine",
         "rawType": "int64",
         "type": "integer"
        },
        {
         "name": "tarragon",
         "rawType": "int64",
         "type": "integer"
        },
        {
         "name": "tea",
         "rawType": "int64",
         "type": "integer"
        },
        {
         "name": "tequila",
         "rawType": "int64",
         "type": "integer"
        },
        {
         "name": "thai_pepper",
         "rawType": "int64",
         "type": "integer"
        },
        {
         "name": "thyme",
         "rawType": "int64",
         "type": "integer"
        },
        {
         "name": "tomato",
         "rawType": "int64",
         "type": "integer"
        },
        {
         "name": "tomato_juice",
         "rawType": "int64",
         "type": "integer"
        },
        {
         "name": "truffle",
         "rawType": "int64",
         "type": "integer"
        },
        {
         "name": "tuna",
         "rawType": "int64",
         "type": "integer"
        },
        {
         "name": "turkey",
         "rawType": "int64",
         "type": "integer"
        },
        {
         "name": "turmeric",
         "rawType": "int64",
         "type": "integer"
        },
        {
         "name": "turnip",
         "rawType": "int64",
         "type": "integer"
        },
        {
         "name": "vanilla",
         "rawType": "int64",
         "type": "integer"
        },
        {
         "name": "veal",
         "rawType": "int64",
         "type": "integer"
        },
        {
         "name": "vegetable",
         "rawType": "int64",
         "type": "integer"
        },
        {
         "name": "vegetable_oil",
         "rawType": "int64",
         "type": "integer"
        },
        {
         "name": "vinegar",
         "rawType": "int64",
         "type": "integer"
        },
        {
         "name": "violet",
         "rawType": "int64",
         "type": "integer"
        },
        {
         "name": "walnut",
         "rawType": "int64",
         "type": "integer"
        },
        {
         "name": "wasabi",
         "rawType": "int64",
         "type": "integer"
        },
        {
         "name": "watercress",
         "rawType": "int64",
         "type": "integer"
        },
        {
         "name": "watermelon",
         "rawType": "int64",
         "type": "integer"
        },
        {
         "name": "wheat",
         "rawType": "int64",
         "type": "integer"
        },
        {
         "name": "wheat_bread",
         "rawType": "int64",
         "type": "integer"
        },
        {
         "name": "whiskey",
         "rawType": "int64",
         "type": "integer"
        },
        {
         "name": "white_bread",
         "rawType": "int64",
         "type": "integer"
        },
        {
         "name": "white_wine",
         "rawType": "int64",
         "type": "integer"
        },
        {
         "name": "whole_grain_wheat_flour",
         "rawType": "int64",
         "type": "integer"
        },
        {
         "name": "wine",
         "rawType": "int64",
         "type": "integer"
        },
        {
         "name": "wood",
         "rawType": "int64",
         "type": "integer"
        },
        {
         "name": "yam",
         "rawType": "int64",
         "type": "integer"
        },
        {
         "name": "yeast",
         "rawType": "int64",
         "type": "integer"
        },
        {
         "name": "yogurt",
         "rawType": "int64",
         "type": "integer"
        },
        {
         "name": "zucchini",
         "rawType": "int64",
         "type": "integer"
        }
       ],
       "ref": "7cfb26b8-aefc-44b4-8bf5-6a34727ae63d",
       "rows": [
        [
         "0",
         "indian",
         "0",
         "0",
         "0",
         "0",
         "0",
         "0",
         "0",
         "0",
         "0",
         "0",
         "0",
         "0",
         "0",
         "0",
         "0",
         "0",
         "0",
         "0",
         "0",
         "0",
         "0",
         "0",
         "0",
         "0",
         "0",
         "0",
         "0",
         "0",
         "0",
         "0",
         "0",
         "0",
         "0",
         "1",
         "0",
         "0",
         "0",
         "0",
         "0",
         "0",
         "0",
         "0",
         "0",
         "0",
         "0",
         "0",
         "0",
         "0",
         "0",
         "0",
         "0",
         "0",
         "0",
         "0",
         "0",
         "0",
         "0",
         "0",
         "0",
         "0",
         "0",
         "0",
         "0",
         "0",
         "0",
         "0",
         "0",
         "0",
         "1",
         "0",
         "0",
         "0",
         "0",
         "0",
         "0",
         "0",
         "0",
         "0",
         "0",
         "0",
         "0",
         "0",
         "0",
         "0",
         "0",
         "0",
         "0",
         "0",
         "0",
         "0",
         "0",
         "0",
         "0",
         "0",
         "0",
         "1",
         "1",
         "0",
         "0",
         "0",
         "0",
         "0",
         "1",
         "0",
         "0",
         "0",
         "0",
         "0",
         "0",
         "0",
         "0",
         "0",
         "1",
         "0",
         "0",
         "0",
         "0",
         "0",
         "0",
         "0",
         "0",
         "0",
         "0",
         "0",
         "0",
         "0",
         "1",
         "0",
         "0",
         "1",
         "0",
         "0",
         "0",
         "0",
         "0",
         "0",
         "0",
         "0",
         "0",
         "0",
         "0",
         "0",
         "0",
         "0",
         "0",
         "0",
         "0",
         "0",
         "0",
         "0",
         "0",
         "0",
         "0",
         "0",
         "0",
         "0",
         "0",
         "0",
         "0",
         "0",
         "0",
         "0",
         "0",
         "0",
         "0",
         "0",
         "0",
         "0",
         "0",
         "0",
         "0",
         "0",
         "0",
         "0",
         "0",
         "0",
         "0",
         "0",
         "0",
         "0",
         "0",
         "0",
         "0",
         "0",
         "0",
         "0",
         "0",
         "0",
         "0",
         "0",
         "0",
         "0",
         "0",
         "0",
         "0",
         "0",
         "0",
         "0",
         "0",
         "0",
         "1",
         "0",
         "0",
         "0",
         "0",
         "0",
         "0",
         "0",
         "0",
         "0",
         "0",
         "0",
         "0",
         "0",
         "0",
         "0",
         "0",
         "0",
         "0",
         "0",
         "0",
         "0",
         "0",
         "0",
         "0",
         "0",
         "0",
         "0",
         "0",
         "0",
         "0",
         "0",
         "0",
         "0",
         "0",
         "0",
         "0",
         "0",
         "0",
         "0",
         "0",
         "0",
         "0",
         "0",
         "0",
         "0",
         "0",
         "0",
         "0",
         "0",
         "0",
         "1",
         "0",
         "0",
         "0",
         "0",
         "0",
         "0",
         "0",
         "0",
         "0",
         "0",
         "0",
         "0",
         "0",
         "0",
         "0",
         "0",
         "0",
         "0",
         "0",
         "0",
         "0",
         "0",
         "0",
         "0",
         "0",
         "0",
         "0",
         "0",
         "0",
         "0",
         "0",
         "0",
         "0",
         "0",
         "0",
         "0",
         "0",
         "0",
         "0",
         "0",
         "0",
         "0",
         "0",
         "0",
         "0",
         "0",
         "0",
         "0",
         "0",
         "0",
         "0",
         "0",
         "0",
         "0",
         "0",
         "0",
         "0",
         "0",
         "0",
         "0",
         "1",
         "0",
         "0",
         "0",
         "0",
         "0",
         "0",
         "0",
         "0",
         "0",
         "0",
         "0",
         "0",
         "0",
         "0",
         "0",
         "0",
         "0",
         "0",
         "0",
         "0",
         "0",
         "0",
         "0",
         "0",
         "0",
         "0",
         "0",
         "0",
         "0",
         "0",
         "0",
         "0",
         "0",
         "0",
         "0",
         "0",
         "0",
         "0",
         "1",
         "0",
         "0",
         "0",
         "0",
         "1",
         "0",
         "0",
         "0",
         "0",
         "0",
         "0",
         "0",
         "0",
         "0",
         "0",
         "0",
         "0",
         "0",
         "0",
         "0",
         "0",
         "0",
         "0",
         "0",
         "0",
         "0",
         "0",
         "0"
        ],
        [
         "1",
         "indian",
         "1",
         "0",
         "0",
         "0",
         "0",
         "0",
         "0",
         "0",
         "0",
         "0",
         "0",
         "0",
         "0",
         "0",
         "0",
         "0",
         "0",
         "0",
         "0",
         "0",
         "0",
         "0",
         "0",
         "0",
         "0",
         "0",
         "0",
         "0",
         "0",
         "0",
         "0",
         "0",
         "0",
         "0",
         "0",
         "0",
         "0",
         "0",
         "0",
         "0",
         "0",
         "0",
         "0",
         "0",
         "0",
         "0",
         "0",
         "0",
         "0",
         "0",
         "0",
         "1",
         "0",
         "0",
         "0",
         "0",
         "0",
         "0",
         "0",
         "1",
         "0",
         "0",
         "0",
         "1",
         "0",
         "0",
         "0",
         "0",
         "0",
         "0",
         "0",
         "0",
         "0",
         "0",
         "0",
         "0",
         "0",
         "0",
         "0",
         "0",
         "0",
         "0",
         "0",
         "0",
         "0",
         "0",
         "0",
         "0",
         "0",
         "0",
         "0",
         "0",
         "0",
         "0",
         "0",
         "0",
         "0",
         "0",
         "0",
         "0",
         "0",
         "0",
         "0",
         "0",
         "0",
         "0",
         "0",
         "0",
         "0",
         "0",
         "0",
         "0",
         "0",
         "0",
         "0",
         "0",
         "0",
         "0",
         "0",
         "0",
         "0",
         "0",
         "0",
         "0",
         "0",
         "0",
         "0",
         "0",
         "0",
         "0",
         "0",
         "0",
         "0",
         "0",
         "0",
         "0",
         "0",
         "0",
         "0",
         "0",
         "0",
         "0",
         "0",
         "0",
         "0",
         "0",
         "0",
         "0",
         "0",
         "0",
         "0",
         "0",
         "0",
         "0",
         "0",
         "0",
         "0",
         "0",
         "0",
         "0",
         "0",
         "0",
         "0",
         "0",
         "0",
         "0",
         "0",
         "0",
         "0",
         "0",
         "0",
         "0",
         "0",
         "0",
         "0",
         "0",
         "0",
         "0",
         "0",
         "0",
         "0",
         "0",
         "0",
         "0",
         "0",
         "0",
         "0",
         "0",
         "0",
         "0",
         "0",
         "0",
         "0",
         "0",
         "0",
         "0",
         "0",
         "0",
         "0",
         "0",
         "0",
         "0",
         "0",
         "0",
         "0",
         "0",
         "0",
         "1",
         "0",
         "0",
         "0",
         "0",
         "0",
         "0",
         "0",
         "0",
         "0",
         "0",
         "0",
         "0",
         "0",
         "0",
         "0",
         "0",
         "0",
         "0",
         "0",
         "0",
         "0",
         "0",
         "0",
         "0",
         "0",
         "0",
         "0",
         "0",
         "0",
         "0",
         "0",
         "0",
         "0",
         "0",
         "0",
         "0",
         "0",
         "0",
         "0",
         "0",
         "0",
         "0",
         "0",
         "0",
         "0",
         "0",
         "0",
         "0",
         "0",
         "0",
         "0",
         "0",
         "0",
         "0",
         "0",
         "0",
         "0",
         "0",
         "0",
         "0",
         "0",
         "0",
         "0",
         "0",
         "0",
         "1",
         "0",
         "0",
         "0",
         "0",
         "0",
         "0",
         "0",
         "0",
         "0",
         "0",
         "0",
         "0",
         "0",
         "0",
         "0",
         "0",
         "0",
         "0",
         "0",
         "0",
         "0",
         "0",
         "0",
         "0",
         "0",
         "0",
         "1",
         "0",
         "0",
         "0",
         "0",
         "0",
         "0",
         "0",
         "0",
         "0",
         "0",
         "0",
         "0",
         "0",
         "0",
         "0",
         "0",
         "0",
         "0",
         "0",
         "0",
         "0",
         "0",
         "0",
         "0",
         "0",
         "0",
         "0",
         "0",
         "0",
         "0",
         "0",
         "0",
         "0",
         "0",
         "0",
         "0",
         "0",
         "0",
         "0",
         "0",
         "0",
         "0",
         "0",
         "0",
         "0",
         "0",
         "0",
         "0",
         "0",
         "0",
         "0",
         "0",
         "0",
         "0",
         "0",
         "0",
         "0",
         "0",
         "0",
         "0",
         "0",
         "0",
         "0",
         "0",
         "0",
         "0",
         "0",
         "0",
         "0",
         "0",
         "0",
         "0",
         "0",
         "0",
         "0",
         "0",
         "0",
         "0",
         "0"
        ],
        [
         "2",
         "indian",
         "0",
         "0",
         "0",
         "0",
         "0",
         "0",
         "0",
         "0",
         "0",
         "0",
         "0",
         "0",
         "0",
         "0",
         "0",
         "0",
         "0",
         "0",
         "0",
         "0",
         "0",
         "0",
         "0",
         "0",
         "0",
         "0",
         "0",
         "0",
         "0",
         "0",
         "0",
         "0",
         "0",
         "0",
         "0",
         "0",
         "0",
         "0",
         "0",
         "0",
         "0",
         "0",
         "0",
         "0",
         "0",
         "0",
         "0",
         "0",
         "0",
         "0",
         "0",
         "0",
         "0",
         "0",
         "0",
         "0",
         "0",
         "0",
         "0",
         "1",
         "0",
         "0",
         "0",
         "0",
         "0",
         "0",
         "0",
         "0",
         "0",
         "0",
         "0",
         "0",
         "0",
         "0",
         "0",
         "0",
         "0",
         "0",
         "0",
         "0",
         "0",
         "0",
         "0",
         "0",
         "0",
         "0",
         "0",
         "0",
         "0",
         "1",
         "0",
         "0",
         "0",
         "0",
         "0",
         "0",
         "0",
         "0",
         "0",
         "0",
         "0",
         "0",
         "0",
         "0",
         "0",
         "0",
         "0",
         "0",
         "0",
         "0",
         "0",
         "0",
         "0",
         "0",
         "0",
         "0",
         "0",
         "0",
         "0",
         "0",
         "0",
         "0",
         "0",
         "0",
         "0",
         "0",
         "0",
         "0",
         "0",
         "0",
         "0",
         "0",
         "0",
         "0",
         "0",
         "0",
         "0",
         "0",
         "0",
         "0",
         "0",
         "0",
         "0",
         "0",
         "0",
         "0",
         "0",
         "0",
         "0",
         "0",
         "0",
         "0",
         "0",
         "0",
         "0",
         "0",
         "0",
         "0",
         "0",
         "0",
         "0",
         "0",
         "0",
         "0",
         "0",
         "0",
         "0",
         "0",
         "0",
         "0",
         "0",
         "0",
         "0",
         "0",
         "0",
         "1",
         "0",
         "0",
         "0",
         "0",
         "0",
         "0",
         "0",
         "0",
         "0",
         "0",
         "0",
         "0",
         "0",
         "0",
         "0",
         "0",
         "0",
         "0",
         "0",
         "0",
         "0",
         "0",
         "0",
         "0",
         "0",
         "0",
         "0",
         "0",
         "0",
         "0",
         "0",
         "0",
         "0",
         "0",
         "0",
         "0",
         "0",
         "0",
         "0",
         "0",
         "0",
         "0",
         "0",
         "0",
         "0",
         "0",
         "0",
         "0",
         "0",
         "0",
         "0",
         "0",
         "0",
         "0",
         "0",
         "0",
         "0",
         "0",
         "0",
         "0",
         "0",
         "0",
         "0",
         "0",
         "0",
         "0",
         "0",
         "0",
         "0",
         "0",
         "0",
         "0",
         "0",
         "0",
         "0",
         "0",
         "0",
         "0",
         "0",
         "0",
         "0",
         "0",
         "0",
         "0",
         "0",
         "0",
         "0",
         "0",
         "0",
         "0",
         "0",
         "0",
         "0",
         "0",
         "0",
         "0",
         "0",
         "0",
         "0",
         "0",
         "0",
         "0",
         "0",
         "0",
         "0",
         "0",
         "0",
         "0",
         "0",
         "0",
         "0",
         "0",
         "0",
         "0",
         "0",
         "0",
         "0",
         "0",
         "0",
         "0",
         "0",
         "0",
         "0",
         "0",
         "0",
         "0",
         "0",
         "0",
         "0",
         "0",
         "0",
         "0",
         "0",
         "0",
         "0",
         "0",
         "0",
         "0",
         "0",
         "0",
         "0",
         "0",
         "0",
         "0",
         "0",
         "0",
         "0",
         "0",
         "0",
         "0",
         "0",
         "0",
         "0",
         "0",
         "0",
         "0",
         "0",
         "0",
         "0",
         "0",
         "0",
         "0",
         "0",
         "0",
         "0",
         "0",
         "0",
         "0",
         "0",
         "0",
         "0",
         "0",
         "0",
         "0",
         "0",
         "0",
         "0",
         "0",
         "0",
         "0",
         "0",
         "0",
         "0",
         "0",
         "0",
         "0",
         "0",
         "0",
         "0",
         "0",
         "0",
         "0",
         "0",
         "0",
         "0",
         "0",
         "0",
         "0",
         "0",
         "0",
         "0",
         "0",
         "0",
         "0"
        ],
        [
         "3",
         "indian",
         "0",
         "0",
         "0",
         "0",
         "0",
         "0",
         "0",
         "0",
         "0",
         "0",
         "0",
         "0",
         "0",
         "0",
         "0",
         "0",
         "0",
         "0",
         "0",
         "0",
         "0",
         "0",
         "0",
         "0",
         "0",
         "0",
         "0",
         "0",
         "0",
         "0",
         "0",
         "0",
         "0",
         "1",
         "0",
         "0",
         "0",
         "0",
         "0",
         "0",
         "0",
         "0",
         "0",
         "0",
         "0",
         "0",
         "0",
         "0",
         "0",
         "0",
         "0",
         "1",
         "0",
         "0",
         "0",
         "0",
         "0",
         "0",
         "0",
         "0",
         "0",
         "0",
         "1",
         "0",
         "0",
         "0",
         "0",
         "0",
         "1",
         "0",
         "0",
         "0",
         "0",
         "0",
         "0",
         "0",
         "0",
         "0",
         "0",
         "0",
         "0",
         "0",
         "0",
         "0",
         "0",
         "0",
         "0",
         "0",
         "0",
         "0",
         "0",
         "0",
         "0",
         "0",
         "0",
         "1",
         "0",
         "0",
         "0",
         "0",
         "0",
         "0",
         "0",
         "0",
         "0",
         "0",
         "0",
         "0",
         "0",
         "0",
         "0",
         "0",
         "0",
         "0",
         "0",
         "0",
         "0",
         "0",
         "0",
         "0",
         "0",
         "0",
         "0",
         "0",
         "0",
         "0",
         "1",
         "0",
         "0",
         "0",
         "0",
         "0",
         "0",
         "0",
         "0",
         "0",
         "0",
         "0",
         "0",
         "0",
         "0",
         "0",
         "0",
         "0",
         "0",
         "0",
         "0",
         "0",
         "0",
         "0",
         "0",
         "0",
         "0",
         "0",
         "0",
         "0",
         "0",
         "0",
         "0",
         "0",
         "0",
         "0",
         "0",
         "0",
         "0",
         "0",
         "0",
         "0",
         "0",
         "0",
         "0",
         "0",
         "0",
         "0",
         "0",
         "0",
         "0",
         "0",
         "0",
         "0",
         "0",
         "0",
         "0",
         "0",
         "0",
         "1",
         "0",
         "0",
         "0",
         "0",
         "0",
         "0",
         "0",
         "0",
         "0",
         "0",
         "0",
         "0",
         "0",
         "0",
         "0",
         "0",
         "0",
         "0",
         "0",
         "0",
         "0",
         "0",
         "0",
         "0",
         "0",
         "0",
         "0",
         "0",
         "0",
         "0",
         "0",
         "0",
         "0",
         "0",
         "0",
         "0",
         "0",
         "0",
         "0",
         "1",
         "0",
         "0",
         "1",
         "0",
         "0",
         "0",
         "0",
         "0",
         "0",
         "0",
         "0",
         "0",
         "0",
         "0",
         "0",
         "0",
         "0",
         "0",
         "0",
         "0",
         "0",
         "0",
         "0",
         "0",
         "0",
         "0",
         "0",
         "0",
         "0",
         "0",
         "0",
         "0",
         "0",
         "0",
         "0",
         "0",
         "0",
         "0",
         "0",
         "0",
         "0",
         "0",
         "0",
         "0",
         "0",
         "0",
         "0",
         "0",
         "0",
         "0",
         "0",
         "0",
         "0",
         "0",
         "0",
         "0",
         "0",
         "0",
         "0",
         "0",
         "0",
         "0",
         "0",
         "0",
         "0",
         "0",
         "0",
         "0",
         "0",
         "0",
         "0",
         "0",
         "0",
         "0",
         "0",
         "0",
         "0",
         "0",
         "0",
         "0",
         "0",
         "1",
         "0",
         "0",
         "0",
         "0",
         "1",
         "0",
         "0",
         "0",
         "0",
         "0",
         "0",
         "0",
         "0",
         "0",
         "0",
         "0",
         "0",
         "0",
         "0",
         "0",
         "0",
         "0",
         "0",
         "0",
         "0",
         "0",
         "0",
         "0",
         "0",
         "0",
         "0",
         "0",
         "0",
         "0",
         "0",
         "0",
         "0",
         "0",
         "0",
         "0",
         "0",
         "0",
         "0",
         "1",
         "0",
         "0",
         "0",
         "0",
         "1",
         "0",
         "0",
         "0",
         "0",
         "0",
         "0",
         "0",
         "0",
         "0",
         "0",
         "0",
         "1",
         "0",
         "0",
         "0",
         "0",
         "0",
         "0",
         "0",
         "0",
         "0",
         "0",
         "0"
        ],
        [
         "4",
         "indian",
         "0",
         "0",
         "0",
         "0",
         "0",
         "0",
         "0",
         "0",
         "0",
         "0",
         "0",
         "0",
         "0",
         "0",
         "0",
         "0",
         "0",
         "0",
         "0",
         "0",
         "0",
         "0",
         "0",
         "0",
         "0",
         "0",
         "0",
         "0",
         "0",
         "0",
         "0",
         "0",
         "0",
         "0",
         "1",
         "0",
         "0",
         "0",
         "0",
         "0",
         "0",
         "0",
         "0",
         "0",
         "0",
         "0",
         "0",
         "0",
         "0",
         "0",
         "0",
         "1",
         "0",
         "0",
         "0",
         "0",
         "0",
         "0",
         "0",
         "1",
         "0",
         "0",
         "0",
         "1",
         "0",
         "0",
         "0",
         "0",
         "1",
         "0",
         "0",
         "0",
         "0",
         "0",
         "0",
         "0",
         "0",
         "0",
         "0",
         "0",
         "1",
         "0",
         "0",
         "0",
         "0",
         "0",
         "0",
         "0",
         "0",
         "1",
         "0",
         "0",
         "0",
         "0",
         "0",
         "0",
         "0",
         "0",
         "0",
         "0",
         "0",
         "0",
         "0",
         "0",
         "0",
         "0",
         "0",
         "0",
         "0",
         "0",
         "0",
         "0",
         "1",
         "0",
         "0",
         "0",
         "0",
         "0",
         "0",
         "0",
         "0",
         "0",
         "0",
         "0",
         "0",
         "0",
         "0",
         "0",
         "0",
         "0",
         "0",
         "0",
         "0",
         "0",
         "0",
         "0",
         "0",
         "0",
         "0",
         "0",
         "0",
         "0",
         "0",
         "0",
         "0",
         "0",
         "0",
         "0",
         "0",
         "0",
         "0",
         "0",
         "0",
         "0",
         "0",
         "0",
         "0",
         "0",
         "0",
         "0",
         "0",
         "0",
         "0",
         "0",
         "0",
         "0",
         "0",
         "0",
         "0",
         "0",
         "0",
         "0",
         "0",
         "0",
         "0",
         "0",
         "1",
         "0",
         "0",
         "0",
         "0",
         "0",
         "0",
         "0",
         "0",
         "0",
         "0",
         "0",
         "0",
         "0",
         "0",
         "0",
         "0",
         "0",
         "0",
         "0",
         "0",
         "0",
         "0",
         "0",
         "0",
         "0",
         "0",
         "0",
         "0",
         "0",
         "0",
         "0",
         "0",
         "0",
         "0",
         "0",
         "0",
         "0",
         "0",
         "0",
         "0",
         "0",
         "0",
         "0",
         "0",
         "0",
         "0",
         "0",
         "0",
         "0",
         "0",
         "0",
         "0",
         "0",
         "0",
         "0",
         "0",
         "0",
         "0",
         "0",
         "0",
         "0",
         "0",
         "0",
         "0",
         "0",
         "0",
         "0",
         "0",
         "0",
         "0",
         "0",
         "0",
         "0",
         "0",
         "0",
         "0",
         "0",
         "0",
         "0",
         "0",
         "0",
         "0",
         "0",
         "0",
         "0",
         "0",
         "0",
         "0",
         "0",
         "0",
         "0",
         "0",
         "0",
         "0",
         "0",
         "0",
         "1",
         "0",
         "0",
         "0",
         "0",
         "0",
         "0",
         "0",
         "0",
         "0",
         "0",
         "0",
         "0",
         "0",
         "0",
         "0",
         "0",
         "0",
         "0",
         "0",
         "0",
         "0",
         "0",
         "0",
         "0",
         "0",
         "0",
         "0",
         "0",
         "0",
         "0",
         "0",
         "0",
         "0",
         "0",
         "0",
         "0",
         "0",
         "0",
         "0",
         "0",
         "0",
         "0",
         "0",
         "0",
         "0",
         "0",
         "0",
         "0",
         "0",
         "0",
         "0",
         "0",
         "0",
         "0",
         "0",
         "0",
         "0",
         "0",
         "0",
         "0",
         "0",
         "0",
         "0",
         "0",
         "0",
         "0",
         "0",
         "0",
         "0",
         "0",
         "0",
         "0",
         "0",
         "0",
         "0",
         "0",
         "0",
         "0",
         "0",
         "0",
         "0",
         "0",
         "0",
         "0",
         "0",
         "0",
         "0",
         "0",
         "0",
         "0",
         "0",
         "0",
         "0",
         "0",
         "0",
         "0",
         "0",
         "0",
         "0",
         "0",
         "0",
         "0",
         "0",
         "0",
         "1",
         "0"
        ]
       ],
       "shape": {
        "columns": 381,
        "rows": 5
       }
      },
      "text/html": [
       "<div>\n",
       "<style scoped>\n",
       "    .dataframe tbody tr th:only-of-type {\n",
       "        vertical-align: middle;\n",
       "    }\n",
       "\n",
       "    .dataframe tbody tr th {\n",
       "        vertical-align: top;\n",
       "    }\n",
       "\n",
       "    .dataframe thead th {\n",
       "        text-align: right;\n",
       "    }\n",
       "</style>\n",
       "<table border=\"1\" class=\"dataframe\">\n",
       "  <thead>\n",
       "    <tr style=\"text-align: right;\">\n",
       "      <th></th>\n",
       "      <th>cuisine</th>\n",
       "      <th>almond</th>\n",
       "      <th>angelica</th>\n",
       "      <th>anise</th>\n",
       "      <th>anise_seed</th>\n",
       "      <th>apple</th>\n",
       "      <th>apple_brandy</th>\n",
       "      <th>apricot</th>\n",
       "      <th>armagnac</th>\n",
       "      <th>artemisia</th>\n",
       "      <th>...</th>\n",
       "      <th>whiskey</th>\n",
       "      <th>white_bread</th>\n",
       "      <th>white_wine</th>\n",
       "      <th>whole_grain_wheat_flour</th>\n",
       "      <th>wine</th>\n",
       "      <th>wood</th>\n",
       "      <th>yam</th>\n",
       "      <th>yeast</th>\n",
       "      <th>yogurt</th>\n",
       "      <th>zucchini</th>\n",
       "    </tr>\n",
       "  </thead>\n",
       "  <tbody>\n",
       "    <tr>\n",
       "      <th>0</th>\n",
       "      <td>indian</td>\n",
       "      <td>0</td>\n",
       "      <td>0</td>\n",
       "      <td>0</td>\n",
       "      <td>0</td>\n",
       "      <td>0</td>\n",
       "      <td>0</td>\n",
       "      <td>0</td>\n",
       "      <td>0</td>\n",
       "      <td>0</td>\n",
       "      <td>...</td>\n",
       "      <td>0</td>\n",
       "      <td>0</td>\n",
       "      <td>0</td>\n",
       "      <td>0</td>\n",
       "      <td>0</td>\n",
       "      <td>0</td>\n",
       "      <td>0</td>\n",
       "      <td>0</td>\n",
       "      <td>0</td>\n",
       "      <td>0</td>\n",
       "    </tr>\n",
       "    <tr>\n",
       "      <th>1</th>\n",
       "      <td>indian</td>\n",
       "      <td>1</td>\n",
       "      <td>0</td>\n",
       "      <td>0</td>\n",
       "      <td>0</td>\n",
       "      <td>0</td>\n",
       "      <td>0</td>\n",
       "      <td>0</td>\n",
       "      <td>0</td>\n",
       "      <td>0</td>\n",
       "      <td>...</td>\n",
       "      <td>0</td>\n",
       "      <td>0</td>\n",
       "      <td>0</td>\n",
       "      <td>0</td>\n",
       "      <td>0</td>\n",
       "      <td>0</td>\n",
       "      <td>0</td>\n",
       "      <td>0</td>\n",
       "      <td>0</td>\n",
       "      <td>0</td>\n",
       "    </tr>\n",
       "    <tr>\n",
       "      <th>2</th>\n",
       "      <td>indian</td>\n",
       "      <td>0</td>\n",
       "      <td>0</td>\n",
       "      <td>0</td>\n",
       "      <td>0</td>\n",
       "      <td>0</td>\n",
       "      <td>0</td>\n",
       "      <td>0</td>\n",
       "      <td>0</td>\n",
       "      <td>0</td>\n",
       "      <td>...</td>\n",
       "      <td>0</td>\n",
       "      <td>0</td>\n",
       "      <td>0</td>\n",
       "      <td>0</td>\n",
       "      <td>0</td>\n",
       "      <td>0</td>\n",
       "      <td>0</td>\n",
       "      <td>0</td>\n",
       "      <td>0</td>\n",
       "      <td>0</td>\n",
       "    </tr>\n",
       "    <tr>\n",
       "      <th>3</th>\n",
       "      <td>indian</td>\n",
       "      <td>0</td>\n",
       "      <td>0</td>\n",
       "      <td>0</td>\n",
       "      <td>0</td>\n",
       "      <td>0</td>\n",
       "      <td>0</td>\n",
       "      <td>0</td>\n",
       "      <td>0</td>\n",
       "      <td>0</td>\n",
       "      <td>...</td>\n",
       "      <td>0</td>\n",
       "      <td>0</td>\n",
       "      <td>0</td>\n",
       "      <td>0</td>\n",
       "      <td>0</td>\n",
       "      <td>0</td>\n",
       "      <td>0</td>\n",
       "      <td>0</td>\n",
       "      <td>0</td>\n",
       "      <td>0</td>\n",
       "    </tr>\n",
       "    <tr>\n",
       "      <th>4</th>\n",
       "      <td>indian</td>\n",
       "      <td>0</td>\n",
       "      <td>0</td>\n",
       "      <td>0</td>\n",
       "      <td>0</td>\n",
       "      <td>0</td>\n",
       "      <td>0</td>\n",
       "      <td>0</td>\n",
       "      <td>0</td>\n",
       "      <td>0</td>\n",
       "      <td>...</td>\n",
       "      <td>0</td>\n",
       "      <td>0</td>\n",
       "      <td>0</td>\n",
       "      <td>0</td>\n",
       "      <td>0</td>\n",
       "      <td>0</td>\n",
       "      <td>0</td>\n",
       "      <td>0</td>\n",
       "      <td>1</td>\n",
       "      <td>0</td>\n",
       "    </tr>\n",
       "  </tbody>\n",
       "</table>\n",
       "<p>5 rows × 381 columns</p>\n",
       "</div>"
      ],
      "text/plain": [
       "  cuisine  almond  angelica  anise  anise_seed  apple  apple_brandy  apricot  \\\n",
       "0  indian       0         0      0           0      0             0        0   \n",
       "1  indian       1         0      0           0      0             0        0   \n",
       "2  indian       0         0      0           0      0             0        0   \n",
       "3  indian       0         0      0           0      0             0        0   \n",
       "4  indian       0         0      0           0      0             0        0   \n",
       "\n",
       "   armagnac  artemisia  ...  whiskey  white_bread  white_wine  \\\n",
       "0         0          0  ...        0            0           0   \n",
       "1         0          0  ...        0            0           0   \n",
       "2         0          0  ...        0            0           0   \n",
       "3         0          0  ...        0            0           0   \n",
       "4         0          0  ...        0            0           0   \n",
       "\n",
       "   whole_grain_wheat_flour  wine  wood  yam  yeast  yogurt  zucchini  \n",
       "0                        0     0     0    0      0       0         0  \n",
       "1                        0     0     0    0      0       0         0  \n",
       "2                        0     0     0    0      0       0         0  \n",
       "3                        0     0     0    0      0       0         0  \n",
       "4                        0     0     0    0      0       1         0  \n",
       "\n",
       "[5 rows x 381 columns]"
      ]
     },
     "metadata": {},
     "output_type": "display_data"
    },
    {
     "data": {
      "application/vnd.microsoft.datawrangler.viewer.v0+json": {
       "columns": [
        {
         "name": "cuisine",
         "rawType": "object",
         "type": "string"
        },
        {
         "name": "count",
         "rawType": "int64",
         "type": "integer"
        }
       ],
       "ref": "41a6a8e0-ce33-4d37-9493-0fe35873cc73",
       "rows": [
        [
         "indian",
         "799"
        ],
        [
         "thai",
         "799"
        ],
        [
         "chinese",
         "799"
        ],
        [
         "japanese",
         "799"
        ],
        [
         "korean",
         "799"
        ]
       ],
       "shape": {
        "columns": 1,
        "rows": 5
       }
      },
      "text/plain": [
       "cuisine\n",
       "indian      799\n",
       "thai        799\n",
       "chinese     799\n",
       "japanese    799\n",
       "korean      799\n",
       "Name: count, dtype: int64"
      ]
     },
     "metadata": {},
     "output_type": "display_data"
    }
   ],
   "source": [
    "\n",
    "# 1. Imports\n",
    "import numpy as np\n",
    "import pandas as pd\n",
    "import matplotlib.pyplot as plt\n",
    "\n",
    "from sklearn.model_selection import train_test_split, GridSearchCV, cross_val_score\n",
    "from sklearn.preprocessing import StandardScaler, LabelEncoder\n",
    "from sklearn.neighbors import KNeighborsClassifier\n",
    "from sklearn.metrics import accuracy_score, classification_report, confusion_matrix, ConfusionMatrixDisplay\n",
    "from sklearn.decomposition import PCA\n",
    "from sklearn.pipeline import Pipeline\n",
    "\n",
    "# For reproducibility\n",
    "RANDOM_STATE = 42\n",
    "\n",
    "# 2. Load dataset (ensure the CSV is in the same runtime environment)\n",
    "df = pd.read_csv('../data/cleaned_cuisines.csv')\n",
    "# Drop unnamed index column if present\n",
    "if 'Unnamed: 0' in df.columns:\n",
    "    df = df.drop(columns=['Unnamed: 0'])\n",
    "\n",
    "print('Shape:', df.shape)\n",
    "display(df.head())\n",
    "display(df['cuisine'].value_counts())\n"
   ]
  },
  {
   "cell_type": "markdown",
   "id": "9e320601",
   "metadata": {},
   "source": [
    "\n",
    "## Data preprocessing notes\n",
    "\n",
    "- The dataset contains a `cuisine` column (target) and many binary ingredient columns (features).  \n",
    "- KNN is sensitive to scaling and distance metrics; however, since features are binary (0/1), scaling may or may not improve performance. We will compare raw binary features vs standardized features.  \n",
    "- We'll encode the `cuisine` labels to integers for modeling.\n"
   ]
  },
  {
   "cell_type": "code",
   "execution_count": 3,
   "id": "b39a3ffd",
   "metadata": {},
   "outputs": [
    {
     "name": "stdout",
     "output_type": "stream",
     "text": [
      "Classes: ['chinese', 'indian', 'japanese', 'korean', 'thai']\n",
      "Feature count: 380\n"
     ]
    }
   ],
   "source": [
    "\n",
    "# 3. Preprocessing\n",
    "# Separate X and y\n",
    "X = df.drop(columns=['cuisine'])\n",
    "y = df['cuisine']\n",
    "\n",
    "# Label encode the cuisine target\n",
    "le = LabelEncoder()\n",
    "y_enc = le.fit_transform(y)\n",
    "class_names = le.classes_\n",
    "\n",
    "print('Classes:', list(class_names))\n",
    "print('Feature count:', X.shape[1])\n"
   ]
  },
  {
   "cell_type": "code",
   "execution_count": 4,
   "id": "7f70a6ff",
   "metadata": {},
   "outputs": [
    {
     "name": "stdout",
     "output_type": "stream",
     "text": [
      "Train shape: (3196, 380) Test shape: (799, 380)\n"
     ]
    }
   ],
   "source": [
    "\n",
    "# 4. Train-test split (stratified to keep class balance)\n",
    "X_train, X_test, y_train, y_test = train_test_split(\n",
    "    X, y_enc, test_size=0.2, random_state=RANDOM_STATE, stratify=y_enc\n",
    ")\n",
    "\n",
    "print('Train shape:', X_train.shape, 'Test shape:', X_test.shape)\n"
   ]
  },
  {
   "cell_type": "markdown",
   "id": "40edeb49",
   "metadata": {},
   "source": [
    "\n",
    "## Baseline KNN model\n",
    "\n",
    "We'll start with a baseline KNN using `n_neighbors=5`, `weights='uniform'`, metric='minkowski' (Euclidean, p=2) on **raw** binary data. We'll evaluate accuracy and the classification report.\n"
   ]
  },
  {
   "cell_type": "code",
   "execution_count": 5,
   "id": "9427274f",
   "metadata": {},
   "outputs": [
    {
     "name": "stdout",
     "output_type": "stream",
     "text": [
      "Baseline accuracy: 0.7571964956195244\n",
      "\n",
      "Classification report:\n",
      "               precision    recall  f1-score   support\n",
      "\n",
      "     chinese       0.61      0.74      0.67       160\n",
      "      indian       0.87      0.83      0.85       159\n",
      "    japanese       0.71      0.86      0.78       160\n",
      "      korean       0.88      0.64      0.74       160\n",
      "        thai       0.79      0.71      0.75       160\n",
      "\n",
      "    accuracy                           0.76       799\n",
      "   macro avg       0.77      0.76      0.76       799\n",
      "weighted avg       0.77      0.76      0.76       799\n",
      "\n"
     ]
    },
    {
     "data": {
      "image/png": "[encoded data removed]",
      "text/plain": [
       "<Figure size 640x480 with 2 Axes>"
      ]
     },
     "metadata": {},
     "output_type": "display_data"
    }
   ],
   "source": [
    "\n",
    "# Baseline KNN on raw binary features\n",
    "knn_base = KNeighborsClassifier(n_neighbors=5, weights='uniform', metric='minkowski', p=2)\n",
    "knn_base.fit(X_train, y_train)\n",
    "\n",
    "y_pred_base = knn_base.predict(X_test)\n",
    "print('Baseline accuracy:', accuracy_score(y_test, y_pred_base))\n",
    "print('\\nClassification report:\\n', classification_report(y_test, y_pred_base, target_names=class_names))\n",
    "cm = confusion_matrix(y_test, y_pred_base)\n",
    "disp = ConfusionMatrixDisplay(confusion_matrix=cm, display_labels=class_names)\n",
    "disp.plot()\n",
    "plt.title('Baseline Confusion Matrix (raw features)')\n",
    "plt.show()\n"
   ]
  },
  {
   "cell_type": "markdown",
   "id": "63477dba",
   "metadata": {},
   "source": [
    "\n",
    "## Effect of Standardization (Scaling)\n",
    "\n",
    "Although features are binary, we'll test whether standardizing features (mean=0, sd=1) changes KNN performance. For continuous data, scaling is required; for binary, it may or may not help. We will fit and evaluate a KNN on standardized features.\n"
   ]
  },
  {
   "cell_type": "code",
   "execution_count": 6,
   "id": "59202a22",
   "metadata": {},
   "outputs": [
    {
     "name": "stdout",
     "output_type": "stream",
     "text": [
      "Scaled KNN accuracy: 0.7634543178973717\n",
      "\n",
      "Classification report (scaled):\n",
      "               precision    recall  f1-score   support\n",
      "\n",
      "     chinese       0.69      0.64      0.66       160\n",
      "      indian       0.85      0.84      0.85       159\n",
      "    japanese       0.71      0.82      0.76       160\n",
      "      korean       0.80      0.69      0.74       160\n",
      "        thai       0.78      0.83      0.80       160\n",
      "\n",
      "    accuracy                           0.76       799\n",
      "   macro avg       0.76      0.76      0.76       799\n",
      "weighted avg       0.76      0.76      0.76       799\n",
      "\n"
     ]
    },
    {
     "data": {
      "image/png": "[encoded data removed]",
      "text/plain": [
       "<Figure size 640x480 with 2 Axes>"
      ]
     },
     "metadata": {},
     "output_type": "display_data"
    }
   ],
   "source": [
    "\n",
    "# Pipeline with scaling\n",
    "pipe_scaled = Pipeline([\n",
    "    ('scaler', StandardScaler()),\n",
    "    ('knn', KNeighborsClassifier(n_neighbors=5, weights='uniform', metric='minkowski', p=2))\n",
    "])\n",
    "pipe_scaled.fit(X_train, y_train)\n",
    "y_pred_scaled = pipe_scaled.predict(X_test)\n",
    "\n",
    "print('Scaled KNN accuracy:', accuracy_score(y_test, y_pred_scaled))\n",
    "print('\\nClassification report (scaled):\\n', classification_report(y_test, y_pred_scaled, target_names=class_names))\n",
    "cm2 = confusion_matrix(y_test, y_pred_scaled)\n",
    "disp2 = ConfusionMatrixDisplay(confusion_matrix=cm2, display_labels=class_names)\n",
    "disp2.plot()\n",
    "plt.title('KNN Confusion Matrix (scaled features)')\n",
    "plt.show()\n"
   ]
  },
  {
   "cell_type": "markdown",
   "id": "ff804f45",
   "metadata": {},
   "source": [
    "\n",
    "## Parameter sweeps: `n_neighbors`, `weights`, and `p` (distance)\n",
    "\n",
    "We will sweep across a set of `n_neighbors` values, compare `weights='uniform'` vs `weights='distance'`, and compare `p=1` (Manhattan) vs `p=2` (Euclidean).\n",
    "\n",
    "*Expected behavior:*  \n",
    "- Small `n_neighbors` → lower bias, higher variance (may overfit).  \n",
    "- Large `n_neighbors` → higher bias, lower variance (may underfit).  \n",
    "- `weights='distance'` often helps when nearer neighbors should have more influence, especially with variable density.  \n",
    "- `p=1` vs `p=2` can change performance depending on data geometry; for high-dimensional sparse binary data, Manhattan (p=1) or cosine distance may be preferable.\n"
   ]
  },
  {
   "cell_type": "code",
   "execution_count": 7,
   "id": "fac40072",
   "metadata": {},
   "outputs": [
    {
     "data": {
      "image/png": "[encoded data removed]",
      "text/plain": [
       "<Figure size 640x480 with 1 Axes>"
      ]
     },
     "metadata": {},
     "output_type": "display_data"
    },
    {
     "data": {
      "application/vnd.microsoft.datawrangler.viewer.v0+json": {
       "columns": [
        {
         "name": "index",
         "rawType": "int64",
         "type": "integer"
        },
        {
         "name": "p",
         "rawType": "int64",
         "type": "integer"
        },
        {
         "name": "weights",
         "rawType": "object",
         "type": "string"
        },
        {
         "name": "n_neighbors",
         "rawType": "int64",
         "type": "integer"
        },
        {
         "name": "accuracy",
         "rawType": "float64",
         "type": "float"
        }
       ],
       "ref": "c94aa0fa-5be4-433a-87f7-ebc3c63ebe2e",
       "rows": [
        [
         "9",
         "1",
         "distance",
         "1",
         "0.7897371714643304"
        ],
        [
         "10",
         "1",
         "distance",
         "3",
         "0.7684605757196495"
        ],
        [
         "11",
         "1",
         "distance",
         "5",
         "0.7772215269086358"
        ],
        [
         "12",
         "1",
         "distance",
         "7",
         "0.7784730913642053"
        ],
        [
         "13",
         "1",
         "distance",
         "9",
         "0.772215269086358"
        ],
        [
         "14",
         "1",
         "distance",
         "11",
         "0.7784730913642053"
        ],
        [
         "15",
         "1",
         "distance",
         "15",
         "0.769712140175219"
        ],
        [
         "16",
         "1",
         "distance",
         "21",
         "0.7709637046307884"
        ],
        [
         "17",
         "1",
         "distance",
         "31",
         "0.7596996245306633"
        ],
        [
         "0",
         "1",
         "uniform",
         "1",
         "0.7897371714643304"
        ],
        [
         "1",
         "1",
         "uniform",
         "3",
         "0.7559449311639549"
        ],
        [
         "2",
         "1",
         "uniform",
         "5",
         "0.7571964956195244"
        ]
       ],
       "shape": {
        "columns": 4,
        "rows": 12
       }
      },
      "text/html": [
       "<div>\n",
       "<style scoped>\n",
       "    .dataframe tbody tr th:only-of-type {\n",
       "        vertical-align: middle;\n",
       "    }\n",
       "\n",
       "    .dataframe tbody tr th {\n",
       "        vertical-align: top;\n",
       "    }\n",
       "\n",
       "    .dataframe thead th {\n",
       "        text-align: right;\n",
       "    }\n",
       "</style>\n",
       "<table border=\"1\" class=\"dataframe\">\n",
       "  <thead>\n",
       "    <tr style=\"text-align: right;\">\n",
       "      <th></th>\n",
       "      <th>p</th>\n",
       "      <th>weights</th>\n",
       "      <th>n_neighbors</th>\n",
       "      <th>accuracy</th>\n",
       "    </tr>\n",
       "  </thead>\n",
       "  <tbody>\n",
       "    <tr>\n",
       "      <th>9</th>\n",
       "      <td>1</td>\n",
       "      <td>distance</td>\n",
       "      <td>1</td>\n",
       "      <td>0.789737</td>\n",
       "    </tr>\n",
       "    <tr>\n",
       "      <th>10</th>\n",
       "      <td>1</td>\n",
       "      <td>distance</td>\n",
       "      <td>3</td>\n",
       "      <td>0.768461</td>\n",
       "    </tr>\n",
       "    <tr>\n",
       "      <th>11</th>\n",
       "      <td>1</td>\n",
       "      <td>distance</td>\n",
       "      <td>5</td>\n",
       "      <td>0.777222</td>\n",
       "    </tr>\n",
       "    <tr>\n",
       "      <th>12</th>\n",
       "      <td>1</td>\n",
       "      <td>distance</td>\n",
       "      <td>7</td>\n",
       "      <td>0.778473</td>\n",
       "    </tr>\n",
       "    <tr>\n",
       "      <th>13</th>\n",
       "      <td>1</td>\n",
       "      <td>distance</td>\n",
       "      <td>9</td>\n",
       "      <td>0.772215</td>\n",
       "    </tr>\n",
       "    <tr>\n",
       "      <th>14</th>\n",
       "      <td>1</td>\n",
       "      <td>distance</td>\n",
       "      <td>11</td>\n",
       "      <td>0.778473</td>\n",
       "    </tr>\n",
       "    <tr>\n",
       "      <th>15</th>\n",
       "      <td>1</td>\n",
       "      <td>distance</td>\n",
       "      <td>15</td>\n",
       "      <td>0.769712</td>\n",
       "    </tr>\n",
       "    <tr>\n",
       "      <th>16</th>\n",
       "      <td>1</td>\n",
       "      <td>distance</td>\n",
       "      <td>21</td>\n",
       "      <td>0.770964</td>\n",
       "    </tr>\n",
       "    <tr>\n",
       "      <th>17</th>\n",
       "      <td>1</td>\n",
       "      <td>distance</td>\n",
       "      <td>31</td>\n",
       "      <td>0.759700</td>\n",
       "    </tr>\n",
       "    <tr>\n",
       "      <th>0</th>\n",
       "      <td>1</td>\n",
       "      <td>uniform</td>\n",
       "      <td>1</td>\n",
       "      <td>0.789737</td>\n",
       "    </tr>\n",
       "    <tr>\n",
       "      <th>1</th>\n",
       "      <td>1</td>\n",
       "      <td>uniform</td>\n",
       "      <td>3</td>\n",
       "      <td>0.755945</td>\n",
       "    </tr>\n",
       "    <tr>\n",
       "      <th>2</th>\n",
       "      <td>1</td>\n",
       "      <td>uniform</td>\n",
       "      <td>5</td>\n",
       "      <td>0.757196</td>\n",
       "    </tr>\n",
       "  </tbody>\n",
       "</table>\n",
       "</div>"
      ],
      "text/plain": [
       "    p   weights  n_neighbors  accuracy\n",
       "9   1  distance            1  0.789737\n",
       "10  1  distance            3  0.768461\n",
       "11  1  distance            5  0.777222\n",
       "12  1  distance            7  0.778473\n",
       "13  1  distance            9  0.772215\n",
       "14  1  distance           11  0.778473\n",
       "15  1  distance           15  0.769712\n",
       "16  1  distance           21  0.770964\n",
       "17  1  distance           31  0.759700\n",
       "0   1   uniform            1  0.789737\n",
       "1   1   uniform            3  0.755945\n",
       "2   1   uniform            5  0.757196"
      ]
     },
     "metadata": {},
     "output_type": "display_data"
    }
   ],
   "source": [
    "\n",
    "# Sweep settings\n",
    "neighbors = [1,3,5,7,9,11,15,21,31]\n",
    "weights_opts = ['uniform', 'distance']\n",
    "ps = [1,2]\n",
    "\n",
    "results = []\n",
    "for p in ps:\n",
    "    for w in weights_opts:\n",
    "        acc_list = []\n",
    "        for k in neighbors:\n",
    "            knn = KNeighborsClassifier(n_neighbors=k, weights=w, p=p, metric='minkowski')\n",
    "            knn.fit(X_train, y_train)\n",
    "            yp = knn.predict(X_test)\n",
    "            acc = accuracy_score(y_test, yp)\n",
    "            acc_list.append(acc)\n",
    "            results.append({'p': p, 'weights': w, 'n_neighbors': k, 'accuracy': acc})\n",
    "        # Plot accuracy vs neighbors for this p and weight\n",
    "        plt.plot(neighbors, acc_list, marker='o', label=f'p={p}, weights={w}')\n",
    "plt.xscale('linear')\n",
    "plt.xlabel('n_neighbors')\n",
    "plt.ylabel('Accuracy')\n",
    "plt.title('Accuracy vs n_neighbors for different p and weight settings')\n",
    "plt.legend()\n",
    "plt.show()\n",
    "\n",
    "res_df = pd.DataFrame(results)\n",
    "display(res_df.sort_values(['p','weights','n_neighbors']).head(12))\n"
   ]
  },
  {
   "cell_type": "markdown",
   "id": "b95abbe1",
   "metadata": {},
   "source": [
    "\n",
    "## Try Cosine distance (suitable for high-dimensional binary/sparse data)\n",
    "\n",
    "Cosine distance measures the angle between vectors and often works well for high-dimensional sparse binary features (like ingredient presence). We'll test KNN with `metric='cosine'` and `weights='distance'` (using `algorithm='brute'` if needed).\n"
   ]
  },
  {
   "cell_type": "code",
   "execution_count": 8,
   "id": "5ef9a33d",
   "metadata": {},
   "outputs": [
    {
     "name": "stdout",
     "output_type": "stream",
     "text": [
      "Cosine KNN accuracy: 0.8135168961201502\n",
      "\n",
      "Classification report (cosine):\n",
      "               precision    recall  f1-score   support\n",
      "\n",
      "     chinese       0.77      0.78      0.78       160\n",
      "      indian       0.92      0.89      0.91       159\n",
      "    japanese       0.81      0.88      0.84       160\n",
      "      korean       0.73      0.75      0.74       160\n",
      "        thai       0.84      0.77      0.80       160\n",
      "\n",
      "    accuracy                           0.81       799\n",
      "   macro avg       0.82      0.81      0.81       799\n",
      "weighted avg       0.82      0.81      0.81       799\n",
      "\n"
     ]
    },
    {
     "data": {
      "image/png": "[encoded data removed]",
      "text/plain": [
       "<Figure size 640x480 with 2 Axes>"
      ]
     },
     "metadata": {},
     "output_type": "display_data"
    }
   ],
   "source": [
    "\n",
    "# KNN using cosine distance\n",
    "knn_cosine = KNeighborsClassifier(n_neighbors=5, weights='distance', metric='cosine', algorithm='brute')\n",
    "knn_cosine.fit(X_train, y_train)\n",
    "y_cos = knn_cosine.predict(X_test)\n",
    "\n",
    "print('Cosine KNN accuracy:', accuracy_score(y_test, y_cos))\n",
    "print('\\nClassification report (cosine):\\n', classification_report(y_test, y_cos, target_names=class_names))\n",
    "cmc = confusion_matrix(y_test, y_cos)\n",
    "disp_c = ConfusionMatrixDisplay(confusion_matrix=cmc, display_labels=class_names)\n",
    "disp_c.plot()\n",
    "plt.title('KNN Confusion Matrix (cosine metric, distance weights)')\n",
    "plt.show()\n"
   ]
  },
  {
   "cell_type": "markdown",
   "id": "80fb9eda",
   "metadata": {},
   "source": [
    "\n",
    "## Grid Search for best hyperparameters (cross-validated)\n",
    "\n",
    "We'll run a `GridSearchCV` over `n_neighbors`, `weights`, and `p` (for Minkowski). We will also separately evaluate `metric='cosine'` with distance weights since mixing metrics can be tricky in a single grid.\n"
   ]
  },
  {
   "cell_type": "code",
   "execution_count": 9,
   "id": "b38492d5",
   "metadata": {},
   "outputs": [
    {
     "name": "stdout",
     "output_type": "stream",
     "text": [
      "Best params (minkowski): {'n_neighbors': 7, 'p': 1, 'weights': 'distance'}\n",
      "Best CV score: 0.7631406494522691\n",
      "Test accuracy (best minkowski): 0.7784730913642053\n",
      "\n",
      "Classification report (best minkowski):\n",
      "               precision    recall  f1-score   support\n",
      "\n",
      "     chinese       0.66      0.78      0.71       160\n",
      "      indian       0.87      0.86      0.86       159\n",
      "    japanese       0.73      0.88      0.80       160\n",
      "      korean       0.89      0.66      0.76       160\n",
      "        thai       0.81      0.72      0.77       160\n",
      "\n",
      "    accuracy                           0.78       799\n",
      "   macro avg       0.79      0.78      0.78       799\n",
      "weighted avg       0.79      0.78      0.78       799\n",
      "\n",
      "Best params (cosine): {'n_neighbors': 5, 'weights': 'distance'}\n",
      "Best CV score (cosine): 0.802884878716745\n",
      "Test accuracy (best cosine): 0.8135168961201502\n",
      "\n",
      "Classification report (best cosine):\n",
      "               precision    recall  f1-score   support\n",
      "\n",
      "     chinese       0.77      0.78      0.78       160\n",
      "      indian       0.92      0.89      0.91       159\n",
      "    japanese       0.81      0.88      0.84       160\n",
      "      korean       0.73      0.75      0.74       160\n",
      "        thai       0.84      0.77      0.80       160\n",
      "\n",
      "    accuracy                           0.81       799\n",
      "   macro avg       0.82      0.81      0.81       799\n",
      "weighted avg       0.82      0.81      0.81       799\n",
      "\n"
     ]
    }
   ],
   "source": [
    "\n",
    "from sklearn.model_selection import GridSearchCV\n",
    "\n",
    "param_grid = {\n",
    "    'n_neighbors': [3,5,7,9,11],\n",
    "    'weights': ['uniform','distance'],\n",
    "    'p': [1,2]\n",
    "}\n",
    "knn = KNeighborsClassifier(metric='minkowski')\n",
    "\n",
    "grid = GridSearchCV(knn, param_grid, cv=5, scoring='accuracy', n_jobs=-1)\n",
    "grid.fit(X_train, y_train)\n",
    "print('Best params (minkowski):', grid.best_params_)\n",
    "print('Best CV score:', grid.best_score_)\n",
    "\n",
    "best_mink = grid.best_estimator_\n",
    "y_best_mink = best_mink.predict(X_test)\n",
    "print('Test accuracy (best minkowski):', accuracy_score(y_test, y_best_mink))\n",
    "print('\\nClassification report (best minkowski):\\n', classification_report(y_test, y_best_mink, target_names=class_names))\n",
    "\n",
    "# Also try cosine in its own grid (k and weights)\n",
    "param_grid_cos = {'n_neighbors':[3,5,7,9,11], 'weights':['uniform','distance']}\n",
    "knn_cos = KNeighborsClassifier(metric='cosine', algorithm='brute')\n",
    "grid_cos = GridSearchCV(knn_cos, param_grid_cos, cv=5, scoring='accuracy', n_jobs=-1)\n",
    "grid_cos.fit(X_train, y_train)\n",
    "print('Best params (cosine):', grid_cos.best_params_)\n",
    "print('Best CV score (cosine):', grid_cos.best_score_)\n",
    "best_cos = grid_cos.best_estimator_\n",
    "y_best_cos = best_cos.predict(X_test)\n",
    "print('Test accuracy (best cosine):', accuracy_score(y_test, y_best_cos))\n",
    "print('\\nClassification report (best cosine):\\n', classification_report(y_test, y_best_cos, target_names=class_names))\n"
   ]
  },
  {
   "cell_type": "markdown",
   "id": "519e9609",
   "metadata": {},
   "source": [
    "\n",
    "## PCA visualization (2D)\n",
    "\n",
    "We'll reduce the high-dimensional ingredient space to 2 principal components for visualization. This gives intuition about class separation and whether KNN can work well in this space.\n"
   ]
  },
  {
   "cell_type": "code",
   "execution_count": 10,
   "id": "fb9d835d",
   "metadata": {},
   "outputs": [
    {
     "data": {
      "image/png": "[encoded data removed]",
      "text/plain": [
       "<Figure size 800x600 with 1 Axes>"
      ]
     },
     "metadata": {},
     "output_type": "display_data"
    },
    {
     "name": "stdout",
     "output_type": "stream",
     "text": [
      "Explained variance ratio: 0.17189302101590054\n"
     ]
    }
   ],
   "source": [
    "\n",
    "pca = PCA(n_components=2, random_state=RANDOM_STATE)\n",
    "X_pca = pca.fit_transform(X)\n",
    "\n",
    "plt.figure(figsize=(8,6))\n",
    "plt.scatter(X_pca[:,0], X_pca[:,1], c=y_enc, s=10)\n",
    "plt.xlabel('PC1')\n",
    "plt.ylabel('PC2')\n",
    "plt.title('PCA (2 components) of cuisine ingredients (colored by cuisine)')\n",
    "plt.show()\n",
    "\n",
    "print('Explained variance ratio:', pca.explained_variance_ratio_.sum())\n"
   ]
  }
 ],
 "metadata": {
  "kernelspec": {
   "display_name": "Python 3",
   "language": "python",
   "name": "python3"
  },
  "language_info": {
   "codemirror_mode": {
    "name": "ipython",
    "version": 3
   },
   "file_extension": ".py",
   "mimetype": "text/x-python",
   "name": "python",
   "nbconvert_exporter": "python",
   "pygments_lexer": "ipython3",
   "version": "3.10.4"
  }
 },
 "nbformat": 4,
 "nbformat_minor": 5
}
