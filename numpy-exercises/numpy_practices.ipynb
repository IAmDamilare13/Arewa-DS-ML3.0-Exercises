{
 "cells": [
  {
   "cell_type": "markdown",
   "id": "a1bd6c93",
   "metadata": {},
   "source": [
    "# Introduction to Numpy"
   ]
  },
  {
   "cell_type": "code",
   "execution_count": 36,
   "id": "3e198110",
   "metadata": {},
   "outputs": [
    {
     "name": "stdout",
     "output_type": "stream",
     "text": [
      "-----------Creating Arrays---------\n",
      "Using np.array: [1 2 3]\n",
      "Initiating using np.zeros: [[0. 0. 0.]\n",
      " [0. 0. 0.]]\n",
      "Using np.ones: [1. 1. 1. 1. 1.]\n",
      "Initiating an identity matrix: [[1. 0. 0.]\n",
      " [0. 1. 0.]\n",
      " [0. 0. 1.]]\n",
      "Using np.arange: [0 2 4 6 8]\n",
      "Using np.linsapce: [0.  0.5 1.  1.5 2. ]\n",
      "-----------Array Attributes---------\n",
      "(2, 2)\n",
      "2\n",
      "int32\n",
      "-----------Vectorized Operations---------\n",
      "[5 7 9]\n",
      "[ 4 10 18]\n",
      "[1 4 9]\n",
      "-----------Broadcasting---------\n",
      "[[11 21 31]\n",
      " [12 22 32]\n",
      " [13 23 33]]\n",
      "-----------Indexing and Slicing---------\n",
      "2\n",
      "[2 5]\n",
      "[4 5 6]\n",
      "-----------Boolean Indexing---------\n",
      "[3 4 5]\n",
      "-----------Aggregations---------\n",
      "10\n",
      "2.5\n",
      "[3 4]\n",
      "-----------Linear Algebra---------\n",
      "[[-2.   1. ]\n",
      " [ 1.5 -0.5]]\n",
      "[[1.0000000e+00 0.0000000e+00]\n",
      " [8.8817842e-16 1.0000000e+00]]\n",
      "-----------Random Numbers---------\n",
      "[0.5488135  0.71518937 0.60276338]\n",
      "[[-2.2683282   1.33354538]\n",
      " [-0.84272405  1.96992445]]\n",
      "[6 8 8 1 6]\n"
     ]
    }
   ],
   "source": [
    "import numpy as np\n",
    "\n",
    "# Creating Arrays\n",
    "print(\"-----------Creating Arrays---------\")\n",
    "print(f\"Using np.array: {np.array([1, 2, 3])}\")\n",
    "print(f\"Initiating using np.zeros: {np.zeros((2, 3))}\")\n",
    "print(f\"Using np.ones: {np.ones(5)}\")\n",
    "print(f\"Initiating an identity matrix: {np.eye(3)}\")\n",
    "print(f\"Using np.arange: {np.arange(0, 10, 2)}\")\n",
    "print(f\"Using np.linsapce: {np.linspace(0, 2, 5)}\")\n",
    "\n",
    "# Array Attributes\n",
    "print(\"-----------Array Attributes---------\")\n",
    "x = np.array([[1, 2], [3, 4]])\n",
    "print(x.shape)\n",
    "print(x.ndim)\n",
    "print(x.dtype)\n",
    "\n",
    "# Vectorized Operations\n",
    "print(\"-----------Vectorized Operations---------\")\n",
    "x = np.array([1, 2, 3])\n",
    "y = np.array([4, 5, 6])\n",
    "print(x + y)\n",
    "print(x * y)\n",
    "print(x ** 2)\n",
    "\n",
    "# Broadcasting\n",
    "print(\"-----------Broadcasting---------\")\n",
    "x = np.array([[1], [2], [3]])\n",
    "y = np.array([10, 20, 30])\n",
    "print(x + y)\n",
    "\n",
    "# Indexing and Slicing\n",
    "print(\"-----------Indexing and Slicing---------\")\n",
    "x = np.array([[1, 2, 3], [4, 5, 6]])\n",
    "print(x[0, 1])\n",
    "print(x[:, 1])\n",
    "print(x[1, :])\n",
    "\n",
    "# Boolean Indexing\n",
    "print(\"-----------Boolean Indexing---------\")\n",
    "x = np.array([1, 2, 3, 4, 5])\n",
    "print(x[x > 2])\n",
    "\n",
    "# Aggregations\n",
    "print(\"-----------Aggregations---------\")\n",
    "x = np.array([[1, 2], [3, 4]])\n",
    "print(x.sum())\n",
    "print(x.mean())\n",
    "print(x.max(axis=0))\n",
    "\n",
    "# Linear Algebra\n",
    "print(\"-----------Linear Algebra---------\")\n",
    "x = np.array([[1, 2], [3, 4]])\n",
    "y = np.linalg.inv(x)\n",
    "print(y)\n",
    "print(np.dot(x, y))\n",
    "\n",
    "# Random Numbers\n",
    "print(\"-----------Random Numbers---------\")\n",
    "np.random.seed(0)\n",
    "print(np.random.rand(3))\n",
    "print(np.random.randn(2, 2))\n",
    "print(np.random.randint(0, 10, size=5))"
   ]
  },
  {
   "cell_type": "code",
   "execution_count": null,
   "id": "6d932733",
   "metadata": {},
   "outputs": [
    {
     "name": "stdout",
     "output_type": "stream",
     "text": [
      "1.26.4\n",
      "[0. 0. 0. 0. 0. 0. 0. 0. 0. 0.]\n"
     ]
    }
   ],
   "source": [
    "import numpy as np\n",
    "\n",
    "print(np.__version__)\n",
    "x = np.zeros(10)\n",
    "print(x)\n"
   ]
  }
 ],
 "metadata": {
  "kernelspec": {
   "display_name": "Python 3",
   "language": "python",
   "name": "python3"
  },
  "language_info": {
   "codemirror_mode": {
    "name": "ipython",
    "version": 3
   },
   "file_extension": ".py",
   "mimetype": "text/x-python",
   "name": "python",
   "nbconvert_exporter": "python",
   "pygments_lexer": "ipython3",
   "version": "3.10.4"
  }
 },
 "nbformat": 4,
 "nbformat_minor": 5
}
