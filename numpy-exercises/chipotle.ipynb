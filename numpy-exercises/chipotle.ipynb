{
 "cells": [
  {
   "cell_type": "markdown",
   "id": "4dfe3055",
   "metadata": {},
   "source": [
    "## CHIPOTLE'S DATA\n",
    "\n",
    "#### Getting to know your data"
   ]
  },
  {
   "cell_type": "code",
   "execution_count": 2,
   "id": "6dddd338",
   "metadata": {},
   "outputs": [
    {
     "data": {
      "application/vnd.microsoft.datawrangler.viewer.v0+json": {
       "columns": [
        {
         "name": "index",
         "rawType": "int64",
         "type": "integer"
        },
        {
         "name": "order_id",
         "rawType": "int64",
         "type": "integer"
        },
        {
         "name": "quantity",
         "rawType": "int64",
         "type": "integer"
        },
        {
         "name": "item_name",
         "rawType": "object",
         "type": "string"
        },
        {
         "name": "choice_description",
         "rawType": "object",
         "type": "unknown"
        },
        {
         "name": "item_price",
         "rawType": "object",
         "type": "string"
        }
       ],
       "ref": "dccf6d07-637d-4714-9973-0063a9af093e",
       "rows": [
        [
         "0",
         "1",
         "1",
         "Chips and Fresh Tomato Salsa",
         null,
         "$2.39 "
        ],
        [
         "1",
         "1",
         "1",
         "Izze",
         "[Clementine]",
         "$3.39 "
        ],
        [
         "2",
         "1",
         "1",
         "Nantucket Nectar",
         "[Apple]",
         "$3.39 "
        ],
        [
         "3",
         "1",
         "1",
         "Chips and Tomatillo-Green Chili Salsa",
         null,
         "$2.39 "
        ],
        [
         "4",
         "2",
         "2",
         "Chicken Bowl",
         "[Tomatillo-Red Chili Salsa (Hot), [Black Beans, Rice, Cheese, Sour Cream]]",
         "$16.98 "
        ],
        [
         "5",
         "3",
         "1",
         "Chicken Bowl",
         "[Fresh Tomato Salsa (Mild), [Rice, Cheese, Sour Cream, Guacamole, Lettuce]]",
         "$10.98 "
        ],
        [
         "6",
         "3",
         "1",
         "Side of Chips",
         null,
         "$1.69 "
        ],
        [
         "7",
         "4",
         "1",
         "Steak Burrito",
         "[Tomatillo Red Chili Salsa, [Fajita Vegetables, Black Beans, Pinto Beans, Cheese, Sour Cream, Guacamole, Lettuce]]",
         "$11.75 "
        ],
        [
         "8",
         "4",
         "1",
         "Steak Soft Tacos",
         "[Tomatillo Green Chili Salsa, [Pinto Beans, Cheese, Sour Cream, Lettuce]]",
         "$9.25 "
        ],
        [
         "9",
         "5",
         "1",
         "Steak Burrito",
         "[Fresh Tomato Salsa, [Rice, Black Beans, Pinto Beans, Cheese, Sour Cream, Lettuce]]",
         "$9.25 "
        ]
       ],
       "shape": {
        "columns": 5,
        "rows": 10
       }
      },
      "text/html": [
       "<div>\n",
       "<style scoped>\n",
       "    .dataframe tbody tr th:only-of-type {\n",
       "        vertical-align: middle;\n",
       "    }\n",
       "\n",
       "    .dataframe tbody tr th {\n",
       "        vertical-align: top;\n",
       "    }\n",
       "\n",
       "    .dataframe thead th {\n",
       "        text-align: right;\n",
       "    }\n",
       "</style>\n",
       "<table border=\"1\" class=\"dataframe\">\n",
       "  <thead>\n",
       "    <tr style=\"text-align: right;\">\n",
       "      <th></th>\n",
       "      <th>order_id</th>\n",
       "      <th>quantity</th>\n",
       "      <th>item_name</th>\n",
       "      <th>choice_description</th>\n",
       "      <th>item_price</th>\n",
       "    </tr>\n",
       "  </thead>\n",
       "  <tbody>\n",
       "    <tr>\n",
       "      <th>0</th>\n",
       "      <td>1</td>\n",
       "      <td>1</td>\n",
       "      <td>Chips and Fresh Tomato Salsa</td>\n",
       "      <td>NaN</td>\n",
       "      <td>$2.39</td>\n",
       "    </tr>\n",
       "    <tr>\n",
       "      <th>1</th>\n",
       "      <td>1</td>\n",
       "      <td>1</td>\n",
       "      <td>Izze</td>\n",
       "      <td>[Clementine]</td>\n",
       "      <td>$3.39</td>\n",
       "    </tr>\n",
       "    <tr>\n",
       "      <th>2</th>\n",
       "      <td>1</td>\n",
       "      <td>1</td>\n",
       "      <td>Nantucket Nectar</td>\n",
       "      <td>[Apple]</td>\n",
       "      <td>$3.39</td>\n",
       "    </tr>\n",
       "    <tr>\n",
       "      <th>3</th>\n",
       "      <td>1</td>\n",
       "      <td>1</td>\n",
       "      <td>Chips and Tomatillo-Green Chili Salsa</td>\n",
       "      <td>NaN</td>\n",
       "      <td>$2.39</td>\n",
       "    </tr>\n",
       "    <tr>\n",
       "      <th>4</th>\n",
       "      <td>2</td>\n",
       "      <td>2</td>\n",
       "      <td>Chicken Bowl</td>\n",
       "      <td>[Tomatillo-Red Chili Salsa (Hot), [Black Beans...</td>\n",
       "      <td>$16.98</td>\n",
       "    </tr>\n",
       "    <tr>\n",
       "      <th>5</th>\n",
       "      <td>3</td>\n",
       "      <td>1</td>\n",
       "      <td>Chicken Bowl</td>\n",
       "      <td>[Fresh Tomato Salsa (Mild), [Rice, Cheese, Sou...</td>\n",
       "      <td>$10.98</td>\n",
       "    </tr>\n",
       "    <tr>\n",
       "      <th>6</th>\n",
       "      <td>3</td>\n",
       "      <td>1</td>\n",
       "      <td>Side of Chips</td>\n",
       "      <td>NaN</td>\n",
       "      <td>$1.69</td>\n",
       "    </tr>\n",
       "    <tr>\n",
       "      <th>7</th>\n",
       "      <td>4</td>\n",
       "      <td>1</td>\n",
       "      <td>Steak Burrito</td>\n",
       "      <td>[Tomatillo Red Chili Salsa, [Fajita Vegetables...</td>\n",
       "      <td>$11.75</td>\n",
       "    </tr>\n",
       "    <tr>\n",
       "      <th>8</th>\n",
       "      <td>4</td>\n",
       "      <td>1</td>\n",
       "      <td>Steak Soft Tacos</td>\n",
       "      <td>[Tomatillo Green Chili Salsa, [Pinto Beans, Ch...</td>\n",
       "      <td>$9.25</td>\n",
       "    </tr>\n",
       "    <tr>\n",
       "      <th>9</th>\n",
       "      <td>5</td>\n",
       "      <td>1</td>\n",
       "      <td>Steak Burrito</td>\n",
       "      <td>[Fresh Tomato Salsa, [Rice, Black Beans, Pinto...</td>\n",
       "      <td>$9.25</td>\n",
       "    </tr>\n",
       "  </tbody>\n",
       "</table>\n",
       "</div>"
      ],
      "text/plain": [
       "   order_id  quantity                              item_name  \\\n",
       "0         1         1           Chips and Fresh Tomato Salsa   \n",
       "1         1         1                                   Izze   \n",
       "2         1         1                       Nantucket Nectar   \n",
       "3         1         1  Chips and Tomatillo-Green Chili Salsa   \n",
       "4         2         2                           Chicken Bowl   \n",
       "5         3         1                           Chicken Bowl   \n",
       "6         3         1                          Side of Chips   \n",
       "7         4         1                          Steak Burrito   \n",
       "8         4         1                       Steak Soft Tacos   \n",
       "9         5         1                          Steak Burrito   \n",
       "\n",
       "                                  choice_description item_price  \n",
       "0                                                NaN     $2.39   \n",
       "1                                       [Clementine]     $3.39   \n",
       "2                                            [Apple]     $3.39   \n",
       "3                                                NaN     $2.39   \n",
       "4  [Tomatillo-Red Chili Salsa (Hot), [Black Beans...    $16.98   \n",
       "5  [Fresh Tomato Salsa (Mild), [Rice, Cheese, Sou...    $10.98   \n",
       "6                                                NaN     $1.69   \n",
       "7  [Tomatillo Red Chili Salsa, [Fajita Vegetables...    $11.75   \n",
       "8  [Tomatillo Green Chili Salsa, [Pinto Beans, Ch...     $9.25   \n",
       "9  [Fresh Tomato Salsa, [Rice, Black Beans, Pinto...     $9.25   "
      ]
     },
     "execution_count": 2,
     "metadata": {},
     "output_type": "execute_result"
    }
   ],
   "source": [
    "# Import the necessary libraries\n",
    "import numpy as np\n",
    "import pandas as pd\n",
    "\n",
    "# Import the dataset\n",
    "data = '../data/chipotle.tsv'\n",
    "\n",
    "# Assign it to a variable called chipo\n",
    "chipo = pd.read_csv(data, sep='\\t')\n",
    "\n",
    "# See the first 10 entries\n",
    "chipo.head(10)"
   ]
  },
  {
   "cell_type": "code",
   "execution_count": 3,
   "id": "dc69432e",
   "metadata": {},
   "outputs": [
    {
     "name": "stdout",
     "output_type": "stream",
     "text": [
      "\n",
      "Total Observations:  4622\n",
      "\n",
      "Total Columns:  5\n",
      "\n",
      " Index(['order_id', 'quantity', 'item_name', 'choice_description',\n",
      "       'item_price'],\n",
      "      dtype='object')\n",
      "\n",
      " RangeIndex(start=0, stop=4622, step=1)\n",
      "\n",
      " Most Ordered:  MultiIndex([('Chicken Bowl',)],\n",
      "           names=['item_name'])\n",
      "\n",
      " Qty Ordered:  726\n",
      "\n",
      " Top Item by Description:  choice_description\n",
      "[Diet Coke]           134\n",
      "Name: count, dtype: int64\n",
      "\n",
      " Total Items:  sum    4622\n",
      "Name: count, dtype: int64\n"
     ]
    }
   ],
   "source": [
    "# What is the number of observations in the dataset?\n",
    "print('\\nTotal Observations: ', chipo.shape[0])\n",
    "\n",
    "# What is the number of columns in the dataset\n",
    "print('\\nTotal Columns: ', chipo.shape[1])\n",
    "\n",
    "# Print the name of all the colums\n",
    "print('\\n', chipo.columns)\n",
    "\n",
    "# How is the dataset indexed?\n",
    "print('\\n', chipo.index)\n",
    "\n",
    "# Which was the most-ordered item?\n",
    "items = chipo[['item_name']].value_counts()\n",
    "most_ordered = items.head(1)\n",
    "print('\\n Most Ordered: ', most_ordered.index)\n",
    "\n",
    "# For the most ordered item, how many items were ordered?\n",
    "print('\\n Qty Ordered: ', most_ordered.iloc[0])\n",
    "\n",
    "# What is the most ordered item in the choice_descriptionn column?\n",
    "items_by_choice_des = chipo[['choice_description']].value_counts()\n",
    "top_items_by_choice_des = items_by_choice_des.head(1)\n",
    "print('\\n Top Item by Description: ', top_items_by_choice_des)\n",
    "\n",
    "# How many items were ordered in total?\n",
    "total_items = items.agg({'sum'})\n",
    "print('\\n Total Items: ', total_items)"
   ]
  },
  {
   "cell_type": "code",
   "execution_count": 4,
   "id": "903d4c86",
   "metadata": {},
   "outputs": [
    {
     "name": "stdout",
     "output_type": "stream",
     "text": [
      "object\n",
      "\n",
      "Total Revenue ($): 39237.02\n",
      "\n",
      "Total Orders: 1834\n",
      "\n",
      "Average Revenue per Order: 21.39423118865867\n",
      "\n",
      "Number of Items Sold: 50\n"
     ]
    }
   ],
   "source": [
    "# Turn the item price into a float\n",
    "item_price = chipo['item_price'].dtype\n",
    "\n",
    "# Check the item price type\n",
    "print(item_price)\n",
    "\n",
    "# Check the item price type\n",
    "chipo['item_price'].dtype\n",
    "\n",
    "# How much was the revenue for the period in the dataset?\n",
    "chipo['item_price'] = chipo['item_price'].str.strip('$')\n",
    "chipo['total'] = chipo['quantity'] * chipo['item_price'].astype('float') # Total=Qty x Price\n",
    "total_revenue = chipo['total'].sum()\n",
    "print('\\nTotal Revenue ($):', total_revenue)\n",
    "\n",
    "# How many orders were made in the period?\n",
    "total_orders = chipo['order_id'].value_counts().count()\n",
    "print('\\nTotal Orders:', total_orders)\n",
    "\n",
    "# What is the average revenue amount per order?\n",
    "average_revenue = total_revenue / total_orders\n",
    "print('\\nAverage Revenue per Order:', average_revenue.mean())\n",
    "\n",
    "# How many different items are sold?\n",
    "num_of_items_sold = chipo['item_name'].value_counts().count()\n",
    "print('\\nNumber of Items Sold:', num_of_items_sold)"
   ]
  },
  {
   "cell_type": "markdown",
   "id": "646f43c7",
   "metadata": {},
   "source": [
    "#### Filtering and Sorting"
   ]
  },
  {
   "cell_type": "code",
   "execution_count": 5,
   "id": "3433ed25",
   "metadata": {},
   "outputs": [
    {
     "name": "stdout",
     "output_type": "stream",
     "text": [
      "Quantity of product above $10.00: 46\n"
     ]
    }
   ],
   "source": [
    "# How many products cost more than $10.00?\n",
    "\n",
    "## delete the duplicates in item_name and quantity\n",
    "chipo_filtered = chipo.drop_duplicates(['item_name','quantity'])\n",
    "\n",
    "## select only the products with quantity equals to 1\n",
    "chipo_one_prod = chipo_filtered[chipo_filtered['quantity'] == 1]\n",
    "\n",
    "## filter item prices greater than $10\n",
    "price_more_than_10_usd = chipo_one_prod[chipo_one_prod['item_price'] > '10.00']\n",
    "\n",
    "# number of item after filtering\n",
    "qty_of_products = price_more_than_10_usd['item_name'].count()\n",
    "\n",
    "print('Quantity of product above $10.00:', qty_of_products)"
   ]
  },
  {
   "cell_type": "code",
   "execution_count": 6,
   "id": "97ebd8cb",
   "metadata": {},
   "outputs": [
    {
     "data": {
      "application/vnd.microsoft.datawrangler.viewer.v0+json": {
       "columns": [
        {
         "name": "index",
         "rawType": "int64",
         "type": "integer"
        },
        {
         "name": "item_name",
         "rawType": "object",
         "type": "string"
        },
        {
         "name": "item_price",
         "rawType": "object",
         "type": "string"
        }
       ],
       "ref": "fd5a4334-c820-449c-bdd0-5659aebc1164",
       "rows": [
        [
         "250",
         "Chicken Salad",
         "10.98 "
        ],
        [
         "5",
         "Chicken Bowl",
         "10.98 "
        ],
        [
         "186",
         "Veggie Salad Bowl",
         "11.25 "
        ],
        [
         "62",
         "Veggie Bowl",
         "11.25 "
        ],
        [
         "57",
         "Veggie Burrito",
         "11.25 "
        ],
        [
         "738",
         "Veggie Soft Tacos",
         "11.25 "
        ],
        [
         "7",
         "Steak Burrito",
         "11.75 "
        ],
        [
         "168",
         "Barbacoa Crispy Tacos",
         "11.75 "
        ],
        [
         "39",
         "Barbacoa Bowl",
         "11.75 "
        ],
        [
         "606",
         "Steak Salad Bowl",
         "11.89 "
        ],
        [
         "1229",
         "Barbacoa Salad Bowl",
         "11.89 "
        ],
        [
         "1132",
         "Carnitas Salad Bowl",
         "11.89 "
        ],
        [
         "40",
         "Chips",
         "2.15 "
        ],
        [
         "300",
         "Chips and Tomatillo-Red Chili Salsa",
         "2.39 "
        ],
        [
         "191",
         "Chips and Roasted Chili-Corn Salsa",
         "2.39 "
        ],
        [
         "0",
         "Chips and Fresh Tomato Salsa",
         "2.39 "
        ],
        [
         "3",
         "Chips and Tomatillo-Green Chili Salsa",
         "2.39 "
        ],
        [
         "111",
         "Chips and Tomatillo Red Chili Salsa",
         "2.95 "
        ],
        [
         "38",
         "Chips and Tomatillo Green Chili Salsa",
         "2.95 "
        ],
        [
         "233",
         "Chips and Roasted Chili Corn Salsa",
         "2.95 "
        ],
        [
         "674",
         "Chips and Mild Fresh Tomato Salsa",
         "3.00 "
        ],
        [
         "1",
         "Izze",
         "3.39 "
        ],
        [
         "2",
         "Nantucket Nectar",
         "3.39 "
        ],
        [
         "10",
         "Chips and Guacamole",
         "4.45 "
        ],
        [
         "298",
         "6 Pack Soft Drink",
         "6.49 "
        ],
        [
         "1414",
         "Salad",
         "7.40 "
        ],
        [
         "520",
         "Crispy Tacos",
         "7.40 "
        ],
        [
         "510",
         "Burrito",
         "7.40 "
        ],
        [
         "673",
         "Bowl",
         "7.40 "
        ],
        [
         "1653",
         "Veggie Crispy Tacos",
         "8.49 "
        ],
        [
         "16",
         "Chicken Burrito",
         "8.49 "
        ],
        [
         "1694",
         "Veggie Salad",
         "8.49 "
        ],
        [
         "11",
         "Chicken Crispy Tacos",
         "8.75 "
        ],
        [
         "12",
         "Chicken Soft Tacos",
         "8.75 "
        ],
        [
         "44",
         "Chicken Salad Bowl",
         "8.75 "
        ],
        [
         "664",
         "Steak Salad",
         "8.99 "
        ],
        [
         "3750",
         "Carnitas Salad",
         "8.99 "
        ],
        [
         "54",
         "Steak Bowl",
         "8.99 "
        ],
        [
         "33",
         "Carnitas Bowl",
         "8.99 "
        ],
        [
         "27",
         "Carnitas Burrito",
         "8.99 "
        ],
        [
         "21",
         "Barbacoa Burrito",
         "8.99 "
        ],
        [
         "237",
         "Carnitas Soft Tacos",
         "9.25 "
        ],
        [
         "56",
         "Barbacoa Soft Tacos",
         "9.25 "
        ],
        [
         "8",
         "Steak Soft Tacos",
         "9.25 "
        ],
        [
         "554",
         "Carnitas Crispy Tacos",
         "9.25 "
        ],
        [
         "92",
         "Steak Crispy Tacos",
         "9.25 "
        ]
       ],
       "shape": {
        "columns": 2,
        "rows": 46
       }
      },
      "text/html": [
       "<div>\n",
       "<style scoped>\n",
       "    .dataframe tbody tr th:only-of-type {\n",
       "        vertical-align: middle;\n",
       "    }\n",
       "\n",
       "    .dataframe tbody tr th {\n",
       "        vertical-align: top;\n",
       "    }\n",
       "\n",
       "    .dataframe thead th {\n",
       "        text-align: right;\n",
       "    }\n",
       "</style>\n",
       "<table border=\"1\" class=\"dataframe\">\n",
       "  <thead>\n",
       "    <tr style=\"text-align: right;\">\n",
       "      <th></th>\n",
       "      <th>item_name</th>\n",
       "      <th>item_price</th>\n",
       "    </tr>\n",
       "  </thead>\n",
       "  <tbody>\n",
       "    <tr>\n",
       "      <th>250</th>\n",
       "      <td>Chicken Salad</td>\n",
       "      <td>10.98</td>\n",
       "    </tr>\n",
       "    <tr>\n",
       "      <th>5</th>\n",
       "      <td>Chicken Bowl</td>\n",
       "      <td>10.98</td>\n",
       "    </tr>\n",
       "    <tr>\n",
       "      <th>186</th>\n",
       "      <td>Veggie Salad Bowl</td>\n",
       "      <td>11.25</td>\n",
       "    </tr>\n",
       "    <tr>\n",
       "      <th>62</th>\n",
       "      <td>Veggie Bowl</td>\n",
       "      <td>11.25</td>\n",
       "    </tr>\n",
       "    <tr>\n",
       "      <th>57</th>\n",
       "      <td>Veggie Burrito</td>\n",
       "      <td>11.25</td>\n",
       "    </tr>\n",
       "    <tr>\n",
       "      <th>738</th>\n",
       "      <td>Veggie Soft Tacos</td>\n",
       "      <td>11.25</td>\n",
       "    </tr>\n",
       "    <tr>\n",
       "      <th>7</th>\n",
       "      <td>Steak Burrito</td>\n",
       "      <td>11.75</td>\n",
       "    </tr>\n",
       "    <tr>\n",
       "      <th>168</th>\n",
       "      <td>Barbacoa Crispy Tacos</td>\n",
       "      <td>11.75</td>\n",
       "    </tr>\n",
       "    <tr>\n",
       "      <th>39</th>\n",
       "      <td>Barbacoa Bowl</td>\n",
       "      <td>11.75</td>\n",
       "    </tr>\n",
       "    <tr>\n",
       "      <th>606</th>\n",
       "      <td>Steak Salad Bowl</td>\n",
       "      <td>11.89</td>\n",
       "    </tr>\n",
       "    <tr>\n",
       "      <th>1229</th>\n",
       "      <td>Barbacoa Salad Bowl</td>\n",
       "      <td>11.89</td>\n",
       "    </tr>\n",
       "    <tr>\n",
       "      <th>1132</th>\n",
       "      <td>Carnitas Salad Bowl</td>\n",
       "      <td>11.89</td>\n",
       "    </tr>\n",
       "    <tr>\n",
       "      <th>40</th>\n",
       "      <td>Chips</td>\n",
       "      <td>2.15</td>\n",
       "    </tr>\n",
       "    <tr>\n",
       "      <th>300</th>\n",
       "      <td>Chips and Tomatillo-Red Chili Salsa</td>\n",
       "      <td>2.39</td>\n",
       "    </tr>\n",
       "    <tr>\n",
       "      <th>191</th>\n",
       "      <td>Chips and Roasted Chili-Corn Salsa</td>\n",
       "      <td>2.39</td>\n",
       "    </tr>\n",
       "    <tr>\n",
       "      <th>0</th>\n",
       "      <td>Chips and Fresh Tomato Salsa</td>\n",
       "      <td>2.39</td>\n",
       "    </tr>\n",
       "    <tr>\n",
       "      <th>3</th>\n",
       "      <td>Chips and Tomatillo-Green Chili Salsa</td>\n",
       "      <td>2.39</td>\n",
       "    </tr>\n",
       "    <tr>\n",
       "      <th>111</th>\n",
       "      <td>Chips and Tomatillo Red Chili Salsa</td>\n",
       "      <td>2.95</td>\n",
       "    </tr>\n",
       "    <tr>\n",
       "      <th>38</th>\n",
       "      <td>Chips and Tomatillo Green Chili Salsa</td>\n",
       "      <td>2.95</td>\n",
       "    </tr>\n",
       "    <tr>\n",
       "      <th>233</th>\n",
       "      <td>Chips and Roasted Chili Corn Salsa</td>\n",
       "      <td>2.95</td>\n",
       "    </tr>\n",
       "    <tr>\n",
       "      <th>674</th>\n",
       "      <td>Chips and Mild Fresh Tomato Salsa</td>\n",
       "      <td>3.00</td>\n",
       "    </tr>\n",
       "    <tr>\n",
       "      <th>1</th>\n",
       "      <td>Izze</td>\n",
       "      <td>3.39</td>\n",
       "    </tr>\n",
       "    <tr>\n",
       "      <th>2</th>\n",
       "      <td>Nantucket Nectar</td>\n",
       "      <td>3.39</td>\n",
       "    </tr>\n",
       "    <tr>\n",
       "      <th>10</th>\n",
       "      <td>Chips and Guacamole</td>\n",
       "      <td>4.45</td>\n",
       "    </tr>\n",
       "    <tr>\n",
       "      <th>298</th>\n",
       "      <td>6 Pack Soft Drink</td>\n",
       "      <td>6.49</td>\n",
       "    </tr>\n",
       "    <tr>\n",
       "      <th>1414</th>\n",
       "      <td>Salad</td>\n",
       "      <td>7.40</td>\n",
       "    </tr>\n",
       "    <tr>\n",
       "      <th>520</th>\n",
       "      <td>Crispy Tacos</td>\n",
       "      <td>7.40</td>\n",
       "    </tr>\n",
       "    <tr>\n",
       "      <th>510</th>\n",
       "      <td>Burrito</td>\n",
       "      <td>7.40</td>\n",
       "    </tr>\n",
       "    <tr>\n",
       "      <th>673</th>\n",
       "      <td>Bowl</td>\n",
       "      <td>7.40</td>\n",
       "    </tr>\n",
       "    <tr>\n",
       "      <th>1653</th>\n",
       "      <td>Veggie Crispy Tacos</td>\n",
       "      <td>8.49</td>\n",
       "    </tr>\n",
       "    <tr>\n",
       "      <th>16</th>\n",
       "      <td>Chicken Burrito</td>\n",
       "      <td>8.49</td>\n",
       "    </tr>\n",
       "    <tr>\n",
       "      <th>1694</th>\n",
       "      <td>Veggie Salad</td>\n",
       "      <td>8.49</td>\n",
       "    </tr>\n",
       "    <tr>\n",
       "      <th>11</th>\n",
       "      <td>Chicken Crispy Tacos</td>\n",
       "      <td>8.75</td>\n",
       "    </tr>\n",
       "    <tr>\n",
       "      <th>12</th>\n",
       "      <td>Chicken Soft Tacos</td>\n",
       "      <td>8.75</td>\n",
       "    </tr>\n",
       "    <tr>\n",
       "      <th>44</th>\n",
       "      <td>Chicken Salad Bowl</td>\n",
       "      <td>8.75</td>\n",
       "    </tr>\n",
       "    <tr>\n",
       "      <th>664</th>\n",
       "      <td>Steak Salad</td>\n",
       "      <td>8.99</td>\n",
       "    </tr>\n",
       "    <tr>\n",
       "      <th>3750</th>\n",
       "      <td>Carnitas Salad</td>\n",
       "      <td>8.99</td>\n",
       "    </tr>\n",
       "    <tr>\n",
       "      <th>54</th>\n",
       "      <td>Steak Bowl</td>\n",
       "      <td>8.99</td>\n",
       "    </tr>\n",
       "    <tr>\n",
       "      <th>33</th>\n",
       "      <td>Carnitas Bowl</td>\n",
       "      <td>8.99</td>\n",
       "    </tr>\n",
       "    <tr>\n",
       "      <th>27</th>\n",
       "      <td>Carnitas Burrito</td>\n",
       "      <td>8.99</td>\n",
       "    </tr>\n",
       "    <tr>\n",
       "      <th>21</th>\n",
       "      <td>Barbacoa Burrito</td>\n",
       "      <td>8.99</td>\n",
       "    </tr>\n",
       "    <tr>\n",
       "      <th>237</th>\n",
       "      <td>Carnitas Soft Tacos</td>\n",
       "      <td>9.25</td>\n",
       "    </tr>\n",
       "    <tr>\n",
       "      <th>56</th>\n",
       "      <td>Barbacoa Soft Tacos</td>\n",
       "      <td>9.25</td>\n",
       "    </tr>\n",
       "    <tr>\n",
       "      <th>8</th>\n",
       "      <td>Steak Soft Tacos</td>\n",
       "      <td>9.25</td>\n",
       "    </tr>\n",
       "    <tr>\n",
       "      <th>554</th>\n",
       "      <td>Carnitas Crispy Tacos</td>\n",
       "      <td>9.25</td>\n",
       "    </tr>\n",
       "    <tr>\n",
       "      <th>92</th>\n",
       "      <td>Steak Crispy Tacos</td>\n",
       "      <td>9.25</td>\n",
       "    </tr>\n",
       "  </tbody>\n",
       "</table>\n",
       "</div>"
      ],
      "text/plain": [
       "                                  item_name item_price\n",
       "250                           Chicken Salad     10.98 \n",
       "5                              Chicken Bowl     10.98 \n",
       "186                       Veggie Salad Bowl     11.25 \n",
       "62                              Veggie Bowl     11.25 \n",
       "57                           Veggie Burrito     11.25 \n",
       "738                       Veggie Soft Tacos     11.25 \n",
       "7                             Steak Burrito     11.75 \n",
       "168                   Barbacoa Crispy Tacos     11.75 \n",
       "39                            Barbacoa Bowl     11.75 \n",
       "606                        Steak Salad Bowl     11.89 \n",
       "1229                    Barbacoa Salad Bowl     11.89 \n",
       "1132                    Carnitas Salad Bowl     11.89 \n",
       "40                                    Chips      2.15 \n",
       "300     Chips and Tomatillo-Red Chili Salsa      2.39 \n",
       "191      Chips and Roasted Chili-Corn Salsa      2.39 \n",
       "0              Chips and Fresh Tomato Salsa      2.39 \n",
       "3     Chips and Tomatillo-Green Chili Salsa      2.39 \n",
       "111     Chips and Tomatillo Red Chili Salsa      2.95 \n",
       "38    Chips and Tomatillo Green Chili Salsa      2.95 \n",
       "233      Chips and Roasted Chili Corn Salsa      2.95 \n",
       "674       Chips and Mild Fresh Tomato Salsa      3.00 \n",
       "1                                      Izze      3.39 \n",
       "2                          Nantucket Nectar      3.39 \n",
       "10                      Chips and Guacamole      4.45 \n",
       "298                       6 Pack Soft Drink      6.49 \n",
       "1414                                  Salad      7.40 \n",
       "520                            Crispy Tacos      7.40 \n",
       "510                                 Burrito      7.40 \n",
       "673                                    Bowl      7.40 \n",
       "1653                    Veggie Crispy Tacos      8.49 \n",
       "16                          Chicken Burrito      8.49 \n",
       "1694                           Veggie Salad      8.49 \n",
       "11                     Chicken Crispy Tacos      8.75 \n",
       "12                       Chicken Soft Tacos      8.75 \n",
       "44                       Chicken Salad Bowl      8.75 \n",
       "664                             Steak Salad      8.99 \n",
       "3750                         Carnitas Salad      8.99 \n",
       "54                               Steak Bowl      8.99 \n",
       "33                            Carnitas Bowl      8.99 \n",
       "27                         Carnitas Burrito      8.99 \n",
       "21                         Barbacoa Burrito      8.99 \n",
       "237                     Carnitas Soft Tacos      9.25 \n",
       "56                      Barbacoa Soft Tacos      9.25 \n",
       "8                          Steak Soft Tacos      9.25 \n",
       "554                   Carnitas Crispy Tacos      9.25 \n",
       "92                       Steak Crispy Tacos      9.25 "
      ]
     },
     "execution_count": 6,
     "metadata": {},
     "output_type": "execute_result"
    }
   ],
   "source": [
    "# What is the price for each item sorted by less expensive?\n",
    "item_price = price_more_than_10_usd[['item_name','item_price']]\n",
    "item_price.sort_values('item_price')"
   ]
  },
  {
   "cell_type": "code",
   "execution_count": 7,
   "id": "5501c897",
   "metadata": {},
   "outputs": [
    {
     "data": {
      "application/vnd.microsoft.datawrangler.viewer.v0+json": {
       "columns": [
        {
         "name": "index",
         "rawType": "int64",
         "type": "integer"
        },
        {
         "name": "order_id",
         "rawType": "int64",
         "type": "integer"
        },
        {
         "name": "quantity",
         "rawType": "int64",
         "type": "integer"
        },
        {
         "name": "item_name",
         "rawType": "object",
         "type": "string"
        },
        {
         "name": "choice_description",
         "rawType": "object",
         "type": "unknown"
        },
        {
         "name": "item_price",
         "rawType": "object",
         "type": "string"
        },
        {
         "name": "total",
         "rawType": "float64",
         "type": "float"
        }
       ],
       "ref": "453dfbca-7289-4e89-a3ce-6015a163e745",
       "rows": [
        [
         "3389",
         "1360",
         "2",
         "6 Pack Soft Drink",
         "[Diet Coke]",
         "12.98 ",
         "25.96"
        ],
        [
         "341",
         "148",
         "1",
         "6 Pack Soft Drink",
         "[Diet Coke]",
         "6.49 ",
         "6.49"
        ],
        [
         "1849",
         "749",
         "1",
         "6 Pack Soft Drink",
         "[Coke]",
         "6.49 ",
         "6.49"
        ],
        [
         "1860",
         "754",
         "1",
         "6 Pack Soft Drink",
         "[Diet Coke]",
         "6.49 ",
         "6.49"
        ],
        [
         "2713",
         "1076",
         "1",
         "6 Pack Soft Drink",
         "[Coke]",
         "6.49 ",
         "6.49"
        ],
        [
         "3422",
         "1373",
         "1",
         "6 Pack Soft Drink",
         "[Coke]",
         "6.49 ",
         "6.49"
        ],
        [
         "553",
         "230",
         "1",
         "6 Pack Soft Drink",
         "[Diet Coke]",
         "6.49 ",
         "6.49"
        ],
        [
         "1916",
         "774",
         "1",
         "6 Pack Soft Drink",
         "[Diet Coke]",
         "6.49 ",
         "6.49"
        ],
        [
         "1922",
         "776",
         "1",
         "6 Pack Soft Drink",
         "[Coke]",
         "6.49 ",
         "6.49"
        ],
        [
         "1937",
         "784",
         "1",
         "6 Pack Soft Drink",
         "[Diet Coke]",
         "6.49 ",
         "6.49"
        ],
        [
         "3836",
         "1537",
         "1",
         "6 Pack Soft Drink",
         "[Coke]",
         "6.49 ",
         "6.49"
        ],
        [
         "298",
         "129",
         "1",
         "6 Pack Soft Drink",
         "[Sprite]",
         "6.49 ",
         "6.49"
        ],
        [
         "1976",
         "798",
         "1",
         "6 Pack Soft Drink",
         "[Diet Coke]",
         "6.49 ",
         "6.49"
        ],
        [
         "1167",
         "481",
         "1",
         "6 Pack Soft Drink",
         "[Coke]",
         "6.49 ",
         "6.49"
        ],
        [
         "3875",
         "1554",
         "1",
         "6 Pack Soft Drink",
         "[Diet Coke]",
         "6.49 ",
         "6.49"
        ],
        [
         "1124",
         "465",
         "1",
         "6 Pack Soft Drink",
         "[Coke]",
         "6.49 ",
         "6.49"
        ],
        [
         "3886",
         "1558",
         "1",
         "6 Pack Soft Drink",
         "[Diet Coke]",
         "6.49 ",
         "6.49"
        ],
        [
         "2108",
         "849",
         "1",
         "6 Pack Soft Drink",
         "[Coke]",
         "6.49 ",
         "6.49"
        ],
        [
         "3010",
         "1196",
         "1",
         "6 Pack Soft Drink",
         "[Diet Coke]",
         "6.49 ",
         "6.49"
        ],
        [
         "4535",
         "1803",
         "1",
         "6 Pack Soft Drink",
         "[Lemonade]",
         "6.49 ",
         "6.49"
        ],
        [
         "4169",
         "1664",
         "1",
         "6 Pack Soft Drink",
         "[Diet Coke]",
         "6.49 ",
         "6.49"
        ],
        [
         "4174",
         "1666",
         "1",
         "6 Pack Soft Drink",
         "[Coke]",
         "6.49 ",
         "6.49"
        ],
        [
         "4527",
         "1800",
         "1",
         "6 Pack Soft Drink",
         "[Diet Coke]",
         "6.49 ",
         "6.49"
        ],
        [
         "4522",
         "1798",
         "1",
         "6 Pack Soft Drink",
         "[Diet Coke]",
         "6.49 ",
         "6.49"
        ],
        [
         "3806",
         "1525",
         "1",
         "6 Pack Soft Drink",
         "[Sprite]",
         "6.49 ",
         "6.49"
        ],
        [
         "2389",
         "949",
         "1",
         "6 Pack Soft Drink",
         "[Coke]",
         "6.49 ",
         "6.49"
        ],
        [
         "3132",
         "1248",
         "1",
         "6 Pack Soft Drink",
         "[Diet Coke]",
         "6.49 ",
         "6.49"
        ],
        [
         "3141",
         "1253",
         "1",
         "6 Pack Soft Drink",
         "[Lemonade]",
         "6.49 ",
         "6.49"
        ],
        [
         "639",
         "264",
         "1",
         "6 Pack Soft Drink",
         "[Diet Coke]",
         "6.49 ",
         "6.49"
        ],
        [
         "1026",
         "422",
         "1",
         "6 Pack Soft Drink",
         "[Sprite]",
         "6.49 ",
         "6.49"
        ],
        [
         "1051",
         "432",
         "1",
         "6 Pack Soft Drink",
         "[Coke]",
         "6.49 ",
         "6.49"
        ],
        [
         "2232",
         "899",
         "1",
         "6 Pack Soft Drink",
         "[Coke]",
         "6.49 ",
         "6.49"
        ],
        [
         "2374",
         "945",
         "1",
         "6 Pack Soft Drink",
         "[Sprite]",
         "6.49 ",
         "6.49"
        ],
        [
         "1260",
         "511",
         "1",
         "6 Pack Soft Drink",
         "[Coke]",
         "6.49 ",
         "6.49"
        ],
        [
         "879",
         "363",
         "1",
         "6 Pack Soft Drink",
         "[Coke]",
         "6.49 ",
         "6.49"
        ],
        [
         "3693",
         "1480",
         "1",
         "6 Pack Soft Drink",
         "[Diet Coke]",
         "6.49 ",
         "6.49"
        ],
        [
         "3789",
         "1517",
         "1",
         "6 Pack Soft Drink",
         "[Diet Coke]",
         "6.49 ",
         "6.49"
        ],
        [
         "2793",
         "1109",
         "1",
         "6 Pack Soft Drink",
         "[Diet Coke]",
         "6.49 ",
         "6.49"
        ],
        [
         "2860",
         "1136",
         "1",
         "6 Pack Soft Drink",
         "[Diet Coke]",
         "6.49 ",
         "6.49"
        ],
        [
         "1392",
         "566",
         "1",
         "6 Pack Soft Drink",
         "[Diet Coke]",
         "6.49 ",
         "6.49"
        ],
        [
         "3600",
         "1443",
         "1",
         "6 Pack Soft Drink",
         "[Coke]",
         "6.49 ",
         "6.49"
        ],
        [
         "3614",
         "1448",
         "1",
         "6 Pack Soft Drink",
         "[Nestea]",
         "6.49 ",
         "6.49"
        ],
        [
         "4359",
         "1741",
         "1",
         "6 Pack Soft Drink",
         "[Coke]",
         "6.49 ",
         "6.49"
        ],
        [
         "4363",
         "1742",
         "1",
         "6 Pack Soft Drink",
         "[Diet Coke]",
         "6.49 ",
         "6.49"
        ],
        [
         "3633",
         "1454",
         "1",
         "6 Pack Soft Drink",
         "[Coke]",
         "6.49 ",
         "6.49"
        ],
        [
         "388",
         "168",
         "1",
         "6 Pack Soft Drink",
         "[Diet Coke]",
         "6.49 ",
         "6.49"
        ],
        [
         "721",
         "298",
         "1",
         "6 Pack Soft Drink",
         "[Nestea]",
         "6.49 ",
         "6.49"
        ],
        [
         "417",
         "182",
         "1",
         "6 Pack Soft Drink",
         "[Diet Coke]",
         "6.49 ",
         "6.49"
        ],
        [
         "1758",
         "709",
         "1",
         "6 Pack Soft Drink",
         "[Diet Coke]",
         "6.49 ",
         "6.49"
        ],
        [
         "3766",
         "1508",
         "1",
         "6 Pack Soft Drink",
         "[Coke]",
         "6.49 ",
         "6.49"
        ]
       ],
       "shape": {
        "columns": 6,
        "rows": 4622
       }
      },
      "text/html": [
       "<div>\n",
       "<style scoped>\n",
       "    .dataframe tbody tr th:only-of-type {\n",
       "        vertical-align: middle;\n",
       "    }\n",
       "\n",
       "    .dataframe tbody tr th {\n",
       "        vertical-align: top;\n",
       "    }\n",
       "\n",
       "    .dataframe thead th {\n",
       "        text-align: right;\n",
       "    }\n",
       "</style>\n",
       "<table border=\"1\" class=\"dataframe\">\n",
       "  <thead>\n",
       "    <tr style=\"text-align: right;\">\n",
       "      <th></th>\n",
       "      <th>order_id</th>\n",
       "      <th>quantity</th>\n",
       "      <th>item_name</th>\n",
       "      <th>choice_description</th>\n",
       "      <th>item_price</th>\n",
       "      <th>total</th>\n",
       "    </tr>\n",
       "  </thead>\n",
       "  <tbody>\n",
       "    <tr>\n",
       "      <th>3389</th>\n",
       "      <td>1360</td>\n",
       "      <td>2</td>\n",
       "      <td>6 Pack Soft Drink</td>\n",
       "      <td>[Diet Coke]</td>\n",
       "      <td>12.98</td>\n",
       "      <td>25.96</td>\n",
       "    </tr>\n",
       "    <tr>\n",
       "      <th>341</th>\n",
       "      <td>148</td>\n",
       "      <td>1</td>\n",
       "      <td>6 Pack Soft Drink</td>\n",
       "      <td>[Diet Coke]</td>\n",
       "      <td>6.49</td>\n",
       "      <td>6.49</td>\n",
       "    </tr>\n",
       "    <tr>\n",
       "      <th>1849</th>\n",
       "      <td>749</td>\n",
       "      <td>1</td>\n",
       "      <td>6 Pack Soft Drink</td>\n",
       "      <td>[Coke]</td>\n",
       "      <td>6.49</td>\n",
       "      <td>6.49</td>\n",
       "    </tr>\n",
       "    <tr>\n",
       "      <th>1860</th>\n",
       "      <td>754</td>\n",
       "      <td>1</td>\n",
       "      <td>6 Pack Soft Drink</td>\n",
       "      <td>[Diet Coke]</td>\n",
       "      <td>6.49</td>\n",
       "      <td>6.49</td>\n",
       "    </tr>\n",
       "    <tr>\n",
       "      <th>2713</th>\n",
       "      <td>1076</td>\n",
       "      <td>1</td>\n",
       "      <td>6 Pack Soft Drink</td>\n",
       "      <td>[Coke]</td>\n",
       "      <td>6.49</td>\n",
       "      <td>6.49</td>\n",
       "    </tr>\n",
       "    <tr>\n",
       "      <th>...</th>\n",
       "      <td>...</td>\n",
       "      <td>...</td>\n",
       "      <td>...</td>\n",
       "      <td>...</td>\n",
       "      <td>...</td>\n",
       "      <td>...</td>\n",
       "    </tr>\n",
       "    <tr>\n",
       "      <th>2384</th>\n",
       "      <td>948</td>\n",
       "      <td>1</td>\n",
       "      <td>Veggie Soft Tacos</td>\n",
       "      <td>[Roasted Chili Corn Salsa, [Fajita Vegetables,...</td>\n",
       "      <td>8.75</td>\n",
       "      <td>8.75</td>\n",
       "    </tr>\n",
       "    <tr>\n",
       "      <th>781</th>\n",
       "      <td>322</td>\n",
       "      <td>1</td>\n",
       "      <td>Veggie Soft Tacos</td>\n",
       "      <td>[Fresh Tomato Salsa, [Black Beans, Cheese, Sou...</td>\n",
       "      <td>8.75</td>\n",
       "      <td>8.75</td>\n",
       "    </tr>\n",
       "    <tr>\n",
       "      <th>2851</th>\n",
       "      <td>1132</td>\n",
       "      <td>1</td>\n",
       "      <td>Veggie Soft Tacos</td>\n",
       "      <td>[Roasted Chili Corn Salsa (Medium), [Black Bea...</td>\n",
       "      <td>8.49</td>\n",
       "      <td>8.49</td>\n",
       "    </tr>\n",
       "    <tr>\n",
       "      <th>1699</th>\n",
       "      <td>688</td>\n",
       "      <td>1</td>\n",
       "      <td>Veggie Soft Tacos</td>\n",
       "      <td>[Fresh Tomato Salsa, [Fajita Vegetables, Rice,...</td>\n",
       "      <td>11.25</td>\n",
       "      <td>11.25</td>\n",
       "    </tr>\n",
       "    <tr>\n",
       "      <th>1395</th>\n",
       "      <td>567</td>\n",
       "      <td>1</td>\n",
       "      <td>Veggie Soft Tacos</td>\n",
       "      <td>[Fresh Tomato Salsa (Mild), [Pinto Beans, Rice...</td>\n",
       "      <td>8.49</td>\n",
       "      <td>8.49</td>\n",
       "    </tr>\n",
       "  </tbody>\n",
       "</table>\n",
       "<p>4622 rows × 6 columns</p>\n",
       "</div>"
      ],
      "text/plain": [
       "      order_id  quantity          item_name  \\\n",
       "3389      1360         2  6 Pack Soft Drink   \n",
       "341        148         1  6 Pack Soft Drink   \n",
       "1849       749         1  6 Pack Soft Drink   \n",
       "1860       754         1  6 Pack Soft Drink   \n",
       "2713      1076         1  6 Pack Soft Drink   \n",
       "...        ...       ...                ...   \n",
       "2384       948         1  Veggie Soft Tacos   \n",
       "781        322         1  Veggie Soft Tacos   \n",
       "2851      1132         1  Veggie Soft Tacos   \n",
       "1699       688         1  Veggie Soft Tacos   \n",
       "1395       567         1  Veggie Soft Tacos   \n",
       "\n",
       "                                     choice_description item_price  total  \n",
       "3389                                        [Diet Coke]     12.98   25.96  \n",
       "341                                         [Diet Coke]      6.49    6.49  \n",
       "1849                                             [Coke]      6.49    6.49  \n",
       "1860                                        [Diet Coke]      6.49    6.49  \n",
       "2713                                             [Coke]      6.49    6.49  \n",
       "...                                                 ...        ...    ...  \n",
       "2384  [Roasted Chili Corn Salsa, [Fajita Vegetables,...      8.75    8.75  \n",
       "781   [Fresh Tomato Salsa, [Black Beans, Cheese, Sou...      8.75    8.75  \n",
       "2851  [Roasted Chili Corn Salsa (Medium), [Black Bea...      8.49    8.49  \n",
       "1699  [Fresh Tomato Salsa, [Fajita Vegetables, Rice,...     11.25   11.25  \n",
       "1395  [Fresh Tomato Salsa (Mild), [Pinto Beans, Rice...      8.49    8.49  \n",
       "\n",
       "[4622 rows x 6 columns]"
      ]
     },
     "execution_count": 7,
     "metadata": {},
     "output_type": "execute_result"
    }
   ],
   "source": [
    "# Sot by the name of the items\n",
    "chipo.sort_values('item_name')"
   ]
  },
  {
   "cell_type": "code",
   "execution_count": 8,
   "id": "c4c47ec0",
   "metadata": {},
   "outputs": [
    {
     "name": "stdout",
     "output_type": "stream",
     "text": [
      "Most expensive item is Steak Salad Bowl with a price of $9.39 \n"
     ]
    }
   ],
   "source": [
    "# What is the quantity of the most expensive item ordered?\n",
    "\n",
    "## filter items by price starting from the highest\n",
    "price_list_of_items = chipo[['item_name', 'item_price']].sort_values('item_price', ascending=False)\n",
    "\n",
    "## select item with most expesive price\n",
    "most_expensive_item_name = price_list_of_items.iloc[0,0] #item_name\n",
    "most_expensive_item_price = price_list_of_items.iloc[0,1] #item_price\n",
    "\n",
    "print(f\"Most expensive item is {most_expensive_item_name} with a price of ${most_expensive_item_price}\")"
   ]
  },
  {
   "cell_type": "code",
   "execution_count": 9,
   "id": "80349774",
   "metadata": {},
   "outputs": [
    {
     "name": "stdout",
     "output_type": "stream",
     "text": [
      "\n",
      "Total Veggie Salad Bowl order: 18\n"
     ]
    },
    {
     "data": {
      "text/plain": [
       "18"
      ]
     },
     "execution_count": 9,
     "metadata": {},
     "output_type": "execute_result"
    }
   ],
   "source": [
    "# How many times was a Veggie Salad Bowl ordered?\n",
    "\n",
    "## filter items on each order\n",
    "order_per_meal = chipo[['item_name','order_id']]\n",
    "\n",
    "## filter out only veg salad bowls\n",
    "veg_salad = order_per_meal[order_per_meal['item_name'] == 'Veggie Salad Bowl']\n",
    "\n",
    "## count number of veg salad bowl\n",
    "total_veg_salad = veg_salad['order_id'].count()\n",
    "\n",
    "print('\\nTotal Veggie Salad Bowl order:', total_veg_salad)\n",
    "\n",
    "# OR\n",
    "\n",
    "veg_order = chipo[chipo['item_name'] == 'Veggie Salad Bowl']\n",
    "len(veg_order)"
   ]
  },
  {
   "cell_type": "code",
   "execution_count": 10,
   "id": "9af19b73",
   "metadata": {},
   "outputs": [
    {
     "name": "stdout",
     "output_type": "stream",
     "text": [
      "\n",
      "Canned Soda ordered more than once: 20\n"
     ]
    },
    {
     "data": {
      "text/plain": [
       "20"
      ]
     },
     "execution_count": 10,
     "metadata": {},
     "output_type": "execute_result"
    }
   ],
   "source": [
    "# How many times did someone order more than one Canned Soda?\n",
    "\n",
    "## filter out items, quantity ordered and order id\n",
    "ordered_items = chipo[['order_id', 'item_name', 'quantity']]\n",
    "\n",
    "## filter out Canned Soda only\n",
    "canned_soda_only = ordered_items[ordered_items['item_name'] == 'Canned Soda']\n",
    "\n",
    "## filter out when Canned Soda order is more than 1\n",
    "more_than_one_canned_soda = canned_soda_only[canned_soda_only['quantity'] > 1]\n",
    "\n",
    "## total Canned Soda more than 1\n",
    "total_more_than_one_canned_soda = more_than_one_canned_soda['quantity'].count()\n",
    "\n",
    "print('\\nCanned Soda ordered more than once:', total_more_than_one_canned_soda)\n",
    "\n",
    "# OR\n",
    "\n",
    "multiple_canned_soda = chipo[(chipo['item_name'] == 'Canned Soda') & (chipo['quantity'] > 1)]\n",
    "len(multiple_canned_soda)"
   ]
  },
  {
   "cell_type": "markdown",
   "id": "5f647f66",
   "metadata": {},
   "source": [
    "#### Visualization"
   ]
  },
  {
   "cell_type": "code",
   "execution_count": 11,
   "id": "60dad3b5",
   "metadata": {},
   "outputs": [
    {
     "data": {
      "image/png": "[encoded data removed]",
      "text/plain": [
       "<Figure size 640x480 with 1 Axes>"
      ]
     },
     "metadata": {},
     "output_type": "display_data"
    }
   ],
   "source": [
    "# Create a plot of the top 5 items bought\n",
    "\n",
    "from matplotlib import pyplot as plt\n",
    "\n",
    "top_5_items = chipo[['item_name', 'quantity']].value_counts('item_name').head(5)\n",
    "top_5_items.plot(kind='bar')\n",
    "plt.ylabel(\"Number of Orders\")\n",
    "plt.xlabel(\"Items Ordered\")\n",
    "plt.title(\"Most Ordered Chipotle Items\")\n",
    "plt.show()"
   ]
  },
  {
   "cell_type": "code",
   "execution_count": 45,
   "id": "4a5dd7f2",
   "metadata": {},
   "outputs": [
    {
     "data": {
      "image/png": "[encoded data removed]",
      "text/plain": [
       "<Figure size 640x480 with 1 Axes>"
      ]
     },
     "metadata": {},
     "output_type": "display_data"
    }
   ],
   "source": [
    "# Create a scatterplot with the number of items ordered per order price\n",
    "chipo['item_price'] = chipo['item_price'].astype('float')\n",
    "orders = chipo.groupby('order_id').sum()\n",
    "\n",
    "# Plot the scatterplot\n",
    "plt.scatter(x=orders['item_price'], y=orders['quantity'])\n",
    "plt.xlabel('Price of Items') # Set x label\n",
    "plt.ylabel('Quantity of Items Ordered') # Set y label\n",
    "plt.title('Quantity of Items ordered per price'); # Set plot title"
   ]
  }
 ],
 "metadata": {
  "kernelspec": {
   "display_name": "Python 3",
   "language": "python",
   "name": "python3"
  },
  "language_info": {
   "codemirror_mode": {
    "name": "ipython",
    "version": 3
   },
   "file_extension": ".py",
   "mimetype": "text/x-python",
   "name": "python",
   "nbconvert_exporter": "python",
   "pygments_lexer": "ipython3",
   "version": "3.10.4"
  }
 },
 "nbformat": 4,
 "nbformat_minor": 5
}
