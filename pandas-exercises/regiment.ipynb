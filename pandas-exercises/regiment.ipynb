{
 "cells": [
  {
   "cell_type": "markdown",
   "id": "7e23d014",
   "metadata": {},
   "source": [
    "# Regiment\n",
    "\n",
    "### Grouping"
   ]
  },
  {
   "cell_type": "code",
   "execution_count": 3,
   "id": "960c570b",
   "metadata": {},
   "outputs": [
    {
     "data": {
      "application/vnd.microsoft.datawrangler.viewer.v0+json": {
       "columns": [
        {
         "name": "index",
         "rawType": "int64",
         "type": "integer"
        },
        {
         "name": "regiment",
         "rawType": "object",
         "type": "string"
        },
        {
         "name": "company",
         "rawType": "object",
         "type": "string"
        },
        {
         "name": "name",
         "rawType": "object",
         "type": "string"
        },
        {
         "name": "preTestScore",
         "rawType": "int64",
         "type": "integer"
        },
        {
         "name": "postTestScore",
         "rawType": "int64",
         "type": "integer"
        }
       ],
       "ref": "8d457abe-8872-4b76-bb4a-292459028d07",
       "rows": [
        [
         "0",
         "Nighthawks",
         "1st",
         "Miller",
         "4",
         "25"
        ],
        [
         "1",
         "Nighthawks",
         "1st",
         "Jacobson",
         "24",
         "94"
        ],
        [
         "2",
         "Nighthawks",
         "2nd",
         "Ali",
         "31",
         "57"
        ],
        [
         "3",
         "Nighthawks",
         "2nd",
         "Milner",
         "2",
         "62"
        ],
        [
         "4",
         "Dragoons",
         "1st",
         "Cooze",
         "3",
         "70"
        ]
       ],
       "shape": {
        "columns": 5,
        "rows": 5
       }
      },
      "text/html": [
       "<div>\n",
       "<style scoped>\n",
       "    .dataframe tbody tr th:only-of-type {\n",
       "        vertical-align: middle;\n",
       "    }\n",
       "\n",
       "    .dataframe tbody tr th {\n",
       "        vertical-align: top;\n",
       "    }\n",
       "\n",
       "    .dataframe thead th {\n",
       "        text-align: right;\n",
       "    }\n",
       "</style>\n",
       "<table border=\"1\" class=\"dataframe\">\n",
       "  <thead>\n",
       "    <tr style=\"text-align: right;\">\n",
       "      <th></th>\n",
       "      <th>regiment</th>\n",
       "      <th>company</th>\n",
       "      <th>name</th>\n",
       "      <th>preTestScore</th>\n",
       "      <th>postTestScore</th>\n",
       "    </tr>\n",
       "  </thead>\n",
       "  <tbody>\n",
       "    <tr>\n",
       "      <th>0</th>\n",
       "      <td>Nighthawks</td>\n",
       "      <td>1st</td>\n",
       "      <td>Miller</td>\n",
       "      <td>4</td>\n",
       "      <td>25</td>\n",
       "    </tr>\n",
       "    <tr>\n",
       "      <th>1</th>\n",
       "      <td>Nighthawks</td>\n",
       "      <td>1st</td>\n",
       "      <td>Jacobson</td>\n",
       "      <td>24</td>\n",
       "      <td>94</td>\n",
       "    </tr>\n",
       "    <tr>\n",
       "      <th>2</th>\n",
       "      <td>Nighthawks</td>\n",
       "      <td>2nd</td>\n",
       "      <td>Ali</td>\n",
       "      <td>31</td>\n",
       "      <td>57</td>\n",
       "    </tr>\n",
       "    <tr>\n",
       "      <th>3</th>\n",
       "      <td>Nighthawks</td>\n",
       "      <td>2nd</td>\n",
       "      <td>Milner</td>\n",
       "      <td>2</td>\n",
       "      <td>62</td>\n",
       "    </tr>\n",
       "    <tr>\n",
       "      <th>4</th>\n",
       "      <td>Dragoons</td>\n",
       "      <td>1st</td>\n",
       "      <td>Cooze</td>\n",
       "      <td>3</td>\n",
       "      <td>70</td>\n",
       "    </tr>\n",
       "  </tbody>\n",
       "</table>\n",
       "</div>"
      ],
      "text/plain": [
       "     regiment company      name  preTestScore  postTestScore\n",
       "0  Nighthawks     1st    Miller             4             25\n",
       "1  Nighthawks     1st  Jacobson            24             94\n",
       "2  Nighthawks     2nd       Ali            31             57\n",
       "3  Nighthawks     2nd    Milner             2             62\n",
       "4    Dragoons     1st     Cooze             3             70"
      ]
     },
     "execution_count": 3,
     "metadata": {},
     "output_type": "execute_result"
    }
   ],
   "source": [
    "# Import the necessary libraries\n",
    "import pandas as pd\n",
    "\n",
    "# Create the DataFrame with the following values\n",
    "raw_data = {'regiment': ['Nighthawks', 'Nighthawks', 'Nighthawks', 'Nighthawks', 'Dragoons', 'Dragoons', 'Dragoons', 'Dragoons', 'Scouts', 'Scouts', 'Scouts', 'Scouts'], \n",
    "        'company': ['1st', '1st', '2nd', '2nd', '1st', '1st', '2nd', '2nd','1st', '1st', '2nd', '2nd'], \n",
    "        'name': ['Miller', 'Jacobson', 'Ali', 'Milner', 'Cooze', 'Jacon', 'Ryaner', 'Sone', 'Sloan', 'Piger', 'Riani', 'Ali'], \n",
    "        'preTestScore': [4, 24, 31, 2, 3, 4, 24, 31, 2, 3, 2, 3],\n",
    "        'postTestScore': [25, 94, 57, 62, 70, 25, 94, 57, 62, 70, 62, 70]}\n",
    "\n",
    "# Assign it to a variable called regiment\n",
    "regiment = pd.DataFrame(raw_data)\n",
    "\n",
    "regiment.head()"
   ]
  },
  {
   "cell_type": "code",
   "execution_count": 12,
   "id": "84fea957",
   "metadata": {},
   "outputs": [
    {
     "data": {
      "application/vnd.microsoft.datawrangler.viewer.v0+json": {
       "columns": [
        {
         "name": "regiment",
         "rawType": "object",
         "type": "string"
        },
        {
         "name": "preTestScore",
         "rawType": "float64",
         "type": "float"
        }
       ],
       "ref": "c7bb223f-368a-4621-8b4c-0cb990202a6d",
       "rows": [
        [
         "Nighthawks",
         "15.25"
        ]
       ],
       "shape": {
        "columns": 1,
        "rows": 1
       }
      },
      "text/plain": [
       "regiment\n",
       "Nighthawks    15.25\n",
       "Name: preTestScore, dtype: float64"
      ]
     },
     "execution_count": 12,
     "metadata": {},
     "output_type": "execute_result"
    }
   ],
   "source": [
    "# What is the mean preTestScore from the regiment Nighthawks?\n",
    "\n",
    "## find mean for regiment\n",
    "mean_score = regiment.groupby('regiment')['preTestScore'].mean()\n",
    "\n",
    "## subset Nighthawks only\n",
    "mean_score.loc[['Nighthawks']]"
   ]
  },
  {
   "cell_type": "code",
   "execution_count": 44,
   "id": "b49df8fa",
   "metadata": {},
   "outputs": [
    {
     "name": "stdout",
     "output_type": "stream",
     "text": [
      "        preTestScore                                                      \\\n",
      "               count       mean        std  min   25%   50%    75%   max   \n",
      "company                                                                    \n",
      "1st              6.0   6.666667   8.524475  2.0  3.00   3.5   4.00  24.0   \n",
      "2nd              6.0  15.500000  14.652645  2.0  2.25  13.5  29.25  31.0   \n",
      "\n",
      "        postTestScore                                                       \n",
      "                count       mean        std   min    25%   50%   75%   max  \n",
      "company                                                                     \n",
      "1st               6.0  57.666667  27.485754  25.0  34.25  66.0  70.0  94.0  \n",
      "2nd               6.0  67.000000  14.057027  57.0  58.25  62.0  68.0  94.0  \n"
     ]
    }
   ],
   "source": [
    "# Present general general statistics by company\n",
    "gen_stats = regiment.groupby('company')[['preTestScore', 'postTestScore']].describe()\n",
    "print(gen_stats)"
   ]
  },
  {
   "cell_type": "code",
   "execution_count": 15,
   "id": "c657a7c2",
   "metadata": {},
   "outputs": [
    {
     "data": {
      "application/vnd.microsoft.datawrangler.viewer.v0+json": {
       "columns": [
        {
         "name": "company",
         "rawType": "object",
         "type": "string"
        },
        {
         "name": "preTestScore",
         "rawType": "float64",
         "type": "float"
        }
       ],
       "ref": "121d2246-ff37-44a4-a538-5e982447a947",
       "rows": [
        [
         "1st",
         "6.666666666666667"
        ],
        [
         "2nd",
         "15.5"
        ]
       ],
       "shape": {
        "columns": 1,
        "rows": 2
       }
      },
      "text/plain": [
       "company\n",
       "1st     6.666667\n",
       "2nd    15.500000\n",
       "Name: preTestScore, dtype: float64"
      ]
     },
     "execution_count": 15,
     "metadata": {},
     "output_type": "execute_result"
    }
   ],
   "source": [
    "# What is the mean of each company's preTestScore?\n",
    "regiment.groupby('company')['preTestScore'].mean()"
   ]
  },
  {
   "cell_type": "code",
   "execution_count": 45,
   "id": "5c73ddae",
   "metadata": {},
   "outputs": [
    {
     "name": "stdout",
     "output_type": "stream",
     "text": [
      "regiment    company\n",
      "Dragoons    1st         3.5\n",
      "            2nd        27.5\n",
      "Nighthawks  1st        14.0\n",
      "            2nd        16.5\n",
      "Scouts      1st         2.5\n",
      "            2nd         2.5\n",
      "Name: preTestScore, dtype: float64\n"
     ]
    }
   ],
   "source": [
    "# Present the mean preTestScores grouped by regiment and company\n",
    "\n",
    "mean_by_regiment = regiment.groupby(['regiment', 'company'])['preTestScore'].mean()\n",
    "print(mean_by_regiment)"
   ]
  },
  {
   "cell_type": "code",
   "execution_count": 49,
   "id": "acb94c19",
   "metadata": {},
   "outputs": [
    {
     "name": "stdout",
     "output_type": "stream",
     "text": [
      "company  regiment  \n",
      "1st      Dragoons       3.5\n",
      "         Nighthawks    14.0\n",
      "         Scouts         2.5\n",
      "2nd      Dragoons      27.5\n",
      "         Nighthawks    16.5\n",
      "         Scouts         2.5\n",
      "Name: preTestScore, dtype: float64\n"
     ]
    }
   ],
   "source": [
    "# Present the mean preTestScores grouped by regiments and company without heirarchical indexing\n",
    "\n",
    "mean_without_indexing = regiment.groupby(['company','regiment'])['preTestScore'].mean()\n",
    "print(mean_without_indexing)"
   ]
  },
  {
   "cell_type": "code",
   "execution_count": 76,
   "id": "6b8914a6",
   "metadata": {},
   "outputs": [
    {
     "name": "stdout",
     "output_type": "stream",
     "text": [
      "                    preTestScore  postTestScore\n",
      "regiment   company                             \n",
      "Dragoons   1st               3.5           47.5\n",
      "           2nd              27.5           75.5\n",
      "Nighthawks 1st              14.0           59.5\n",
      "           2nd              16.5           59.5\n",
      "Scouts     1st               2.5           66.0\n",
      "           2nd               2.5           66.0\n"
     ]
    }
   ],
   "source": [
    "# Group the entire dataframe by regiment and company\n",
    "grouping = regiment.groupby(['regiment', 'company'])[['preTestScore', 'postTestScore']].mean()\n",
    "print(grouping)"
   ]
  },
  {
   "cell_type": "code",
   "execution_count": 68,
   "id": "d900a2f6",
   "metadata": {},
   "outputs": [
    {
     "name": "stdout",
     "output_type": "stream",
     "text": [
      "company  regiment  \n",
      "1st      Dragoons      2\n",
      "         Nighthawks    2\n",
      "         Scouts        2\n",
      "2nd      Dragoons      2\n",
      "         Nighthawks    2\n",
      "         Scouts        2\n",
      "Name: count, dtype: int64\n"
     ]
    }
   ],
   "source": [
    "# What is the number of observations in each regiments and company\n",
    "obs_by_reg_n_com = regiment.groupby('company')['regiment'].value_counts()\n",
    "print(obs_by_reg_n_com)"
   ]
  },
  {
   "cell_type": "code",
   "execution_count": 71,
   "id": "2b7ada2e",
   "metadata": {},
   "outputs": [
    {
     "name": "stdout",
     "output_type": "stream",
     "text": [
      "Dragoons\n",
      "   regiment company    name  preTestScore  postTestScore\n",
      "4  Dragoons     1st   Cooze             3             70\n",
      "5  Dragoons     1st   Jacon             4             25\n",
      "6  Dragoons     2nd  Ryaner            24             94\n",
      "7  Dragoons     2nd    Sone            31             57\n",
      "Nighthawks\n",
      "     regiment company      name  preTestScore  postTestScore\n",
      "0  Nighthawks     1st    Miller             4             25\n",
      "1  Nighthawks     1st  Jacobson            24             94\n",
      "2  Nighthawks     2nd       Ali            31             57\n",
      "3  Nighthawks     2nd    Milner             2             62\n",
      "Scouts\n",
      "   regiment company   name  preTestScore  postTestScore\n",
      "8    Scouts     1st  Sloan             2             62\n",
      "9    Scouts     1st  Piger             3             70\n",
      "10   Scouts     2nd  Riani             2             62\n",
      "11   Scouts     2nd    Ali             3             70\n"
     ]
    }
   ],
   "source": [
    "# Iterate over a group and print the name and the whole data from the regiment\n",
    "\n",
    "for col, row in regiment.groupby('regiment'):\n",
    "    print(col)\n",
    "    print(row)\n",
    "\n",
    "# for rol, col in regiment.iterrows:"
   ]
  }
 ],
 "metadata": {
  "kernelspec": {
   "display_name": "Python 3",
   "language": "python",
   "name": "python3"
  },
  "language_info": {
   "codemirror_mode": {
    "name": "ipython",
    "version": 3
   },
   "file_extension": ".py",
   "mimetype": "text/x-python",
   "name": "python",
   "nbconvert_exporter": "python",
   "pygments_lexer": "ipython3",
   "version": "3.10.4"
  }
 },
 "nbformat": 4,
 "nbformat_minor": 5
}
